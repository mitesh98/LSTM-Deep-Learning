{
  "nbformat": 4,
  "nbformat_minor": 0,
  "metadata": {
    "colab": {
      "name": "LSTM.ipynb",
      "version": "0.3.2",
      "provenance": [],
      "collapsed_sections": [],
      "include_colab_link": true
    },
    "kernelspec": {
      "name": "python3",
      "display_name": "Python 3"
    },
    "accelerator": "TPU"
  },
  "cells": [
    {
      "cell_type": "markdown",
      "metadata": {
        "id": "view-in-github",
        "colab_type": "text"
      },
      "source": [
        "<a href=\"https://colab.research.google.com/github/mitesh98/LSTM-Deep-Learning/blob/master/LSTM.ipynb\" target=\"_parent\"><img src=\"https://colab.research.google.com/assets/colab-badge.svg\" alt=\"Open In Colab\"/></a>"
      ]
    },
    {
      "metadata": {
        "id": "UMk7QVGmgr7M",
        "colab_type": "text"
      },
      "cell_type": "markdown",
      "source": [
        "# 1.Reading Data"
      ]
    },
    {
      "metadata": {
        "id": "NjgmooTdd7qJ",
        "colab_type": "code",
        "colab": {}
      },
      "cell_type": "code",
      "source": [
        "import pandas as pd\n",
        "import numpy as np\n",
        "import matplotlib.pyplot as plt\n",
        "import sqlite3\n",
        "import re\n",
        "from bs4 import BeautifulSoup\n",
        "from collections import Counter\n",
        "from collections import OrderedDict \n",
        "from keras.models import Sequential\n",
        "from keras.layers import Dense,Dropout\n",
        "from keras.layers import LSTM\n",
        "from keras.layers.embeddings import Embedding\n",
        "from keras.preprocessing import sequence\n",
        "\n",
        "# fix random seed for reproducibility\n",
        "np.random.seed(7)"
      ],
      "execution_count": 0,
      "outputs": []
    },
    {
      "metadata": {
        "id": "kXKNJri0aJHN",
        "colab_type": "code",
        "colab": {
          "base_uri": "https://localhost:8080/",
          "height": 122
        },
        "outputId": "fe55751b-310f-44d1-8c57-9bec5cde23d3"
      },
      "cell_type": "code",
      "source": [
        "from google.colab import drive\n",
        "drive.mount('/content/drive')"
      ],
      "execution_count": 2,
      "outputs": [
        {
          "output_type": "stream",
          "text": [
            "Go to this URL in a browser: https://accounts.google.com/o/oauth2/auth?client_id=947318989803-6bn6qk8qdgf4n4g3pfee6491hc0brc4i.apps.googleusercontent.com&redirect_uri=urn%3Aietf%3Awg%3Aoauth%3A2.0%3Aoob&scope=email%20https%3A%2F%2Fwww.googleapis.com%2Fauth%2Fdocs.test%20https%3A%2F%2Fwww.googleapis.com%2Fauth%2Fdrive%20https%3A%2F%2Fwww.googleapis.com%2Fauth%2Fdrive.photos.readonly%20https%3A%2F%2Fwww.googleapis.com%2Fauth%2Fpeopleapi.readonly&response_type=code\n",
            "\n",
            "Enter your authorization code:\n",
            "··········\n",
            "Mounted at /content/drive\n"
          ],
          "name": "stdout"
        }
      ]
    },
    {
      "metadata": {
        "id": "MxND-onpdnGQ",
        "colab_type": "code",
        "colab": {}
      },
      "cell_type": "code",
      "source": [
        "!cp \"/content/drive/My Drive/database.sqlite\" \"database.sqlite\""
      ],
      "execution_count": 0,
      "outputs": []
    },
    {
      "metadata": {
        "id": "r_IIcr7ed1h_",
        "colab_type": "code",
        "colab": {
          "base_uri": "https://localhost:8080/",
          "height": 652
        },
        "outputId": "3e26347e-33ae-4b99-e1d8-488c50aa3af1"
      },
      "cell_type": "code",
      "source": [
        "con=sqlite3.connect(\"database.sqlite\")\n",
        "filtered_data=pd.read_sql_query(\"SELECT * FROM `Reviews` WHERE `Score` !=3\",con)\n",
        "filtered_data.shape\n",
        "filtered_data.head()"
      ],
      "execution_count": 4,
      "outputs": [
        {
          "output_type": "execute_result",
          "data": {
            "text/html": [
              "<div>\n",
              "<style scoped>\n",
              "    .dataframe tbody tr th:only-of-type {\n",
              "        vertical-align: middle;\n",
              "    }\n",
              "\n",
              "    .dataframe tbody tr th {\n",
              "        vertical-align: top;\n",
              "    }\n",
              "\n",
              "    .dataframe thead th {\n",
              "        text-align: right;\n",
              "    }\n",
              "</style>\n",
              "<table border=\"1\" class=\"dataframe\">\n",
              "  <thead>\n",
              "    <tr style=\"text-align: right;\">\n",
              "      <th></th>\n",
              "      <th>Id</th>\n",
              "      <th>ProductId</th>\n",
              "      <th>UserId</th>\n",
              "      <th>ProfileName</th>\n",
              "      <th>HelpfulnessNumerator</th>\n",
              "      <th>HelpfulnessDenominator</th>\n",
              "      <th>Score</th>\n",
              "      <th>Time</th>\n",
              "      <th>Summary</th>\n",
              "      <th>Text</th>\n",
              "    </tr>\n",
              "  </thead>\n",
              "  <tbody>\n",
              "    <tr>\n",
              "      <th>0</th>\n",
              "      <td>1</td>\n",
              "      <td>B001E4KFG0</td>\n",
              "      <td>A3SGXH7AUHU8GW</td>\n",
              "      <td>delmartian</td>\n",
              "      <td>1</td>\n",
              "      <td>1</td>\n",
              "      <td>5</td>\n",
              "      <td>1303862400</td>\n",
              "      <td>Good Quality Dog Food</td>\n",
              "      <td>I have bought several of the Vitality canned d...</td>\n",
              "    </tr>\n",
              "    <tr>\n",
              "      <th>1</th>\n",
              "      <td>2</td>\n",
              "      <td>B00813GRG4</td>\n",
              "      <td>A1D87F6ZCVE5NK</td>\n",
              "      <td>dll pa</td>\n",
              "      <td>0</td>\n",
              "      <td>0</td>\n",
              "      <td>1</td>\n",
              "      <td>1346976000</td>\n",
              "      <td>Not as Advertised</td>\n",
              "      <td>Product arrived labeled as Jumbo Salted Peanut...</td>\n",
              "    </tr>\n",
              "    <tr>\n",
              "      <th>2</th>\n",
              "      <td>3</td>\n",
              "      <td>B000LQOCH0</td>\n",
              "      <td>ABXLMWJIXXAIN</td>\n",
              "      <td>Natalia Corres \"Natalia Corres\"</td>\n",
              "      <td>1</td>\n",
              "      <td>1</td>\n",
              "      <td>4</td>\n",
              "      <td>1219017600</td>\n",
              "      <td>\"Delight\" says it all</td>\n",
              "      <td>This is a confection that has been around a fe...</td>\n",
              "    </tr>\n",
              "    <tr>\n",
              "      <th>3</th>\n",
              "      <td>4</td>\n",
              "      <td>B000UA0QIQ</td>\n",
              "      <td>A395BORC6FGVXV</td>\n",
              "      <td>Karl</td>\n",
              "      <td>3</td>\n",
              "      <td>3</td>\n",
              "      <td>2</td>\n",
              "      <td>1307923200</td>\n",
              "      <td>Cough Medicine</td>\n",
              "      <td>If you are looking for the secret ingredient i...</td>\n",
              "    </tr>\n",
              "    <tr>\n",
              "      <th>4</th>\n",
              "      <td>5</td>\n",
              "      <td>B006K2ZZ7K</td>\n",
              "      <td>A1UQRSCLF8GW1T</td>\n",
              "      <td>Michael D. Bigham \"M. Wassir\"</td>\n",
              "      <td>0</td>\n",
              "      <td>0</td>\n",
              "      <td>5</td>\n",
              "      <td>1350777600</td>\n",
              "      <td>Great taffy</td>\n",
              "      <td>Great taffy at a great price.  There was a wid...</td>\n",
              "    </tr>\n",
              "  </tbody>\n",
              "</table>\n",
              "</div>"
            ],
            "text/plain": [
              "   Id   ProductId          UserId                      ProfileName  \\\n",
              "0   1  B001E4KFG0  A3SGXH7AUHU8GW                       delmartian   \n",
              "1   2  B00813GRG4  A1D87F6ZCVE5NK                           dll pa   \n",
              "2   3  B000LQOCH0   ABXLMWJIXXAIN  Natalia Corres \"Natalia Corres\"   \n",
              "3   4  B000UA0QIQ  A395BORC6FGVXV                             Karl   \n",
              "4   5  B006K2ZZ7K  A1UQRSCLF8GW1T    Michael D. Bigham \"M. Wassir\"   \n",
              "\n",
              "   HelpfulnessNumerator  HelpfulnessDenominator  Score        Time  \\\n",
              "0                     1                       1      5  1303862400   \n",
              "1                     0                       0      1  1346976000   \n",
              "2                     1                       1      4  1219017600   \n",
              "3                     3                       3      2  1307923200   \n",
              "4                     0                       0      5  1350777600   \n",
              "\n",
              "                 Summary                                               Text  \n",
              "0  Good Quality Dog Food  I have bought several of the Vitality canned d...  \n",
              "1      Not as Advertised  Product arrived labeled as Jumbo Salted Peanut...  \n",
              "2  \"Delight\" says it all  This is a confection that has been around a fe...  \n",
              "3         Cough Medicine  If you are looking for the secret ingredient i...  \n",
              "4            Great taffy  Great taffy at a great price.  There was a wid...  "
            ]
          },
          "metadata": {
            "tags": []
          },
          "execution_count": 4
        }
      ]
    },
    {
      "metadata": {
        "id": "iYO5LiZae7C6",
        "colab_type": "code",
        "colab": {}
      },
      "cell_type": "code",
      "source": [
        "def partition(x):\n",
        "    if x < 3:\n",
        "        return 0\n",
        "    return 1"
      ],
      "execution_count": 0,
      "outputs": []
    },
    {
      "metadata": {
        "id": "75jRDusWe_lg",
        "colab_type": "code",
        "colab": {
          "base_uri": "https://localhost:8080/",
          "height": 652
        },
        "outputId": "9f8067f2-c023-475b-918b-45ddd5dec7ba"
      },
      "cell_type": "code",
      "source": [
        "actual_score=filtered_data['Score']\n",
        "posnegative=actual_score.map(partition)\n",
        "filtered_data['Score']=posnegative\n",
        "filtered_data.head(5)"
      ],
      "execution_count": 6,
      "outputs": [
        {
          "output_type": "execute_result",
          "data": {
            "text/html": [
              "<div>\n",
              "<style scoped>\n",
              "    .dataframe tbody tr th:only-of-type {\n",
              "        vertical-align: middle;\n",
              "    }\n",
              "\n",
              "    .dataframe tbody tr th {\n",
              "        vertical-align: top;\n",
              "    }\n",
              "\n",
              "    .dataframe thead th {\n",
              "        text-align: right;\n",
              "    }\n",
              "</style>\n",
              "<table border=\"1\" class=\"dataframe\">\n",
              "  <thead>\n",
              "    <tr style=\"text-align: right;\">\n",
              "      <th></th>\n",
              "      <th>Id</th>\n",
              "      <th>ProductId</th>\n",
              "      <th>UserId</th>\n",
              "      <th>ProfileName</th>\n",
              "      <th>HelpfulnessNumerator</th>\n",
              "      <th>HelpfulnessDenominator</th>\n",
              "      <th>Score</th>\n",
              "      <th>Time</th>\n",
              "      <th>Summary</th>\n",
              "      <th>Text</th>\n",
              "    </tr>\n",
              "  </thead>\n",
              "  <tbody>\n",
              "    <tr>\n",
              "      <th>0</th>\n",
              "      <td>1</td>\n",
              "      <td>B001E4KFG0</td>\n",
              "      <td>A3SGXH7AUHU8GW</td>\n",
              "      <td>delmartian</td>\n",
              "      <td>1</td>\n",
              "      <td>1</td>\n",
              "      <td>1</td>\n",
              "      <td>1303862400</td>\n",
              "      <td>Good Quality Dog Food</td>\n",
              "      <td>I have bought several of the Vitality canned d...</td>\n",
              "    </tr>\n",
              "    <tr>\n",
              "      <th>1</th>\n",
              "      <td>2</td>\n",
              "      <td>B00813GRG4</td>\n",
              "      <td>A1D87F6ZCVE5NK</td>\n",
              "      <td>dll pa</td>\n",
              "      <td>0</td>\n",
              "      <td>0</td>\n",
              "      <td>0</td>\n",
              "      <td>1346976000</td>\n",
              "      <td>Not as Advertised</td>\n",
              "      <td>Product arrived labeled as Jumbo Salted Peanut...</td>\n",
              "    </tr>\n",
              "    <tr>\n",
              "      <th>2</th>\n",
              "      <td>3</td>\n",
              "      <td>B000LQOCH0</td>\n",
              "      <td>ABXLMWJIXXAIN</td>\n",
              "      <td>Natalia Corres \"Natalia Corres\"</td>\n",
              "      <td>1</td>\n",
              "      <td>1</td>\n",
              "      <td>1</td>\n",
              "      <td>1219017600</td>\n",
              "      <td>\"Delight\" says it all</td>\n",
              "      <td>This is a confection that has been around a fe...</td>\n",
              "    </tr>\n",
              "    <tr>\n",
              "      <th>3</th>\n",
              "      <td>4</td>\n",
              "      <td>B000UA0QIQ</td>\n",
              "      <td>A395BORC6FGVXV</td>\n",
              "      <td>Karl</td>\n",
              "      <td>3</td>\n",
              "      <td>3</td>\n",
              "      <td>0</td>\n",
              "      <td>1307923200</td>\n",
              "      <td>Cough Medicine</td>\n",
              "      <td>If you are looking for the secret ingredient i...</td>\n",
              "    </tr>\n",
              "    <tr>\n",
              "      <th>4</th>\n",
              "      <td>5</td>\n",
              "      <td>B006K2ZZ7K</td>\n",
              "      <td>A1UQRSCLF8GW1T</td>\n",
              "      <td>Michael D. Bigham \"M. Wassir\"</td>\n",
              "      <td>0</td>\n",
              "      <td>0</td>\n",
              "      <td>1</td>\n",
              "      <td>1350777600</td>\n",
              "      <td>Great taffy</td>\n",
              "      <td>Great taffy at a great price.  There was a wid...</td>\n",
              "    </tr>\n",
              "  </tbody>\n",
              "</table>\n",
              "</div>"
            ],
            "text/plain": [
              "   Id   ProductId          UserId                      ProfileName  \\\n",
              "0   1  B001E4KFG0  A3SGXH7AUHU8GW                       delmartian   \n",
              "1   2  B00813GRG4  A1D87F6ZCVE5NK                           dll pa   \n",
              "2   3  B000LQOCH0   ABXLMWJIXXAIN  Natalia Corres \"Natalia Corres\"   \n",
              "3   4  B000UA0QIQ  A395BORC6FGVXV                             Karl   \n",
              "4   5  B006K2ZZ7K  A1UQRSCLF8GW1T    Michael D. Bigham \"M. Wassir\"   \n",
              "\n",
              "   HelpfulnessNumerator  HelpfulnessDenominator  Score        Time  \\\n",
              "0                     1                       1      1  1303862400   \n",
              "1                     0                       0      0  1346976000   \n",
              "2                     1                       1      1  1219017600   \n",
              "3                     3                       3      0  1307923200   \n",
              "4                     0                       0      1  1350777600   \n",
              "\n",
              "                 Summary                                               Text  \n",
              "0  Good Quality Dog Food  I have bought several of the Vitality canned d...  \n",
              "1      Not as Advertised  Product arrived labeled as Jumbo Salted Peanut...  \n",
              "2  \"Delight\" says it all  This is a confection that has been around a fe...  \n",
              "3         Cough Medicine  If you are looking for the secret ingredient i...  \n",
              "4            Great taffy  Great taffy at a great price.  There was a wid...  "
            ]
          },
          "metadata": {
            "tags": []
          },
          "execution_count": 6
        }
      ]
    },
    {
      "metadata": {
        "id": "T7zlh7RbfE5g",
        "colab_type": "code",
        "colab": {}
      },
      "cell_type": "code",
      "source": [
        "df=filtered_data.sample(5000)\n"
      ],
      "execution_count": 0,
      "outputs": []
    },
    {
      "metadata": {
        "id": "k4H0KkP-fQ6_",
        "colab_type": "code",
        "colab": {
          "base_uri": "https://localhost:8080/",
          "height": 34
        },
        "outputId": "510ee86d-2977-426a-f3bc-f9f271ebe470"
      },
      "cell_type": "code",
      "source": [
        "df.shape"
      ],
      "execution_count": 25,
      "outputs": [
        {
          "output_type": "execute_result",
          "data": {
            "text/plain": [
              "(5000, 10)"
            ]
          },
          "metadata": {
            "tags": []
          },
          "execution_count": 25
        }
      ]
    },
    {
      "metadata": {
        "id": "irP7tpJHfqu4",
        "colab_type": "code",
        "colab": {
          "base_uri": "https://localhost:8080/",
          "height": 34
        },
        "outputId": "e95db3c8-1d44-453c-9d38-3f993d4e29ea"
      },
      "cell_type": "code",
      "source": [
        "#Deduplication of entries\n",
        "final=df.drop_duplicates(subset={'UserId','ProfileName','Time','Text'},keep='first',inplace=False)\n",
        "final.shape"
      ],
      "execution_count": 26,
      "outputs": [
        {
          "output_type": "execute_result",
          "data": {
            "text/plain": [
              "(4948, 10)"
            ]
          },
          "metadata": {
            "tags": []
          },
          "execution_count": 26
        }
      ]
    },
    {
      "metadata": {
        "id": "_28qDblogwA9",
        "colab_type": "code",
        "colab": {
          "base_uri": "https://localhost:8080/",
          "height": 195
        },
        "outputId": "615d66f2-b180-40e6-9796-6527a6440c10"
      },
      "cell_type": "code",
      "source": [
        "final=final[['Text','Score']]\n",
        "final.head()"
      ],
      "execution_count": 27,
      "outputs": [
        {
          "output_type": "execute_result",
          "data": {
            "text/html": [
              "<div>\n",
              "<style scoped>\n",
              "    .dataframe tbody tr th:only-of-type {\n",
              "        vertical-align: middle;\n",
              "    }\n",
              "\n",
              "    .dataframe tbody tr th {\n",
              "        vertical-align: top;\n",
              "    }\n",
              "\n",
              "    .dataframe thead th {\n",
              "        text-align: right;\n",
              "    }\n",
              "</style>\n",
              "<table border=\"1\" class=\"dataframe\">\n",
              "  <thead>\n",
              "    <tr style=\"text-align: right;\">\n",
              "      <th></th>\n",
              "      <th>Text</th>\n",
              "      <th>Score</th>\n",
              "    </tr>\n",
              "  </thead>\n",
              "  <tbody>\n",
              "    <tr>\n",
              "      <th>52298</th>\n",
              "      <td>Okay, we admit it: we're neither coffee nor te...</td>\n",
              "      <td>1</td>\n",
              "    </tr>\n",
              "    <tr>\n",
              "      <th>6207</th>\n",
              "      <td>Who knew juice could be so cool? It has a very...</td>\n",
              "      <td>1</td>\n",
              "    </tr>\n",
              "    <tr>\n",
              "      <th>363058</th>\n",
              "      <td>My mom is an avid green tea drinker. I have bo...</td>\n",
              "      <td>1</td>\n",
              "    </tr>\n",
              "    <tr>\n",
              "      <th>371762</th>\n",
              "      <td>First of all, I think these candies are great....</td>\n",
              "      <td>1</td>\n",
              "    </tr>\n",
              "    <tr>\n",
              "      <th>75162</th>\n",
              "      <td>My dog just didn't like the taste of them whic...</td>\n",
              "      <td>0</td>\n",
              "    </tr>\n",
              "  </tbody>\n",
              "</table>\n",
              "</div>"
            ],
            "text/plain": [
              "                                                     Text  Score\n",
              "52298   Okay, we admit it: we're neither coffee nor te...      1\n",
              "6207    Who knew juice could be so cool? It has a very...      1\n",
              "363058  My mom is an avid green tea drinker. I have bo...      1\n",
              "371762  First of all, I think these candies are great....      1\n",
              "75162   My dog just didn't like the taste of them whic...      0"
            ]
          },
          "metadata": {
            "tags": []
          },
          "execution_count": 27
        }
      ]
    },
    {
      "metadata": {
        "id": "JqVLaDq5ohdj",
        "colab_type": "text"
      },
      "cell_type": "markdown",
      "source": [
        "# 2. Data Cleaning\n",
        "** 2.1 Hyperlink Removal**"
      ]
    },
    {
      "metadata": {
        "id": "91Pcqy8woggS",
        "colab_type": "code",
        "colab": {}
      },
      "cell_type": "code",
      "source": [
        "for i in range(0,4948):\n",
        "  final['Text'].values[i] = re.sub(r\"http\\S+\", \"\", final['Text'].values[i])"
      ],
      "execution_count": 0,
      "outputs": []
    },
    {
      "metadata": {
        "id": "Gv55ZD3GpVux",
        "colab_type": "text"
      },
      "cell_type": "markdown",
      "source": [
        "**2.2 html tags Removal**"
      ]
    },
    {
      "metadata": {
        "id": "Bq1x-9mMpG_r",
        "colab_type": "code",
        "colab": {}
      },
      "cell_type": "code",
      "source": [
        "#Remove HTML tags\n",
        "for i in range(1,4948):\n",
        "  soup = BeautifulSoup(final['Text'].values[i],'lxml')\n",
        "  text = soup.get_text()\n",
        "  final['Text'].values[i]=text"
      ],
      "execution_count": 0,
      "outputs": []
    },
    {
      "metadata": {
        "id": "Is-LCLjWopbn",
        "colab_type": "text"
      },
      "cell_type": "markdown",
      "source": [
        "# LSTM\n",
        "\n",
        "# 3.1 Training Data Preparation"
      ]
    },
    {
      "metadata": {
        "id": "-O-n6JSFjSZu",
        "colab_type": "code",
        "colab": {
          "base_uri": "https://localhost:8080/",
          "height": 34
        },
        "outputId": "ae1e014e-addf-43a5-df0d-54aa04041bf4"
      },
      "cell_type": "code",
      "source": [
        "y=list(final['Score'])\n",
        "reviews=list(final['Text']) #x\n",
        "len(y)"
      ],
      "execution_count": 30,
      "outputs": [
        {
          "output_type": "execute_result",
          "data": {
            "text/plain": [
              "4948"
            ]
          },
          "metadata": {
            "tags": []
          },
          "execution_count": 30
        }
      ]
    },
    {
      "metadata": {
        "id": "UULykq0ZjwGR",
        "colab_type": "code",
        "colab": {}
      },
      "cell_type": "code",
      "source": [
        "list_of_word=[]\n",
        "for review in reviews:\n",
        "  words=review.split()\n",
        "  for word in words:\n",
        "    list_of_word.append(word)"
      ],
      "execution_count": 0,
      "outputs": []
    },
    {
      "metadata": {
        "id": "SWoOLcDFlQbY",
        "colab_type": "code",
        "colab": {
          "base_uri": "https://localhost:8080/",
          "height": 34
        },
        "outputId": "bf1bb2a6-5e14-4cab-93cd-792338bb7efc"
      },
      "cell_type": "code",
      "source": [
        "counts = Counter(list_of_word)\n",
        "list_of_unique_word=list(counts.elements())\n",
        "print(\"Total No of unique words :\",len(list_of_unique_word))"
      ],
      "execution_count": 32,
      "outputs": [
        {
          "output_type": "stream",
          "text": [
            "Total No of unique words : 370285\n"
          ],
          "name": "stdout"
        }
      ]
    },
    {
      "metadata": {
        "id": "SybudEetxcEe",
        "colab_type": "code",
        "colab": {
          "base_uri": "https://localhost:8080/",
          "height": 202
        },
        "outputId": "4bd780f2-24b6-4a30-ab83-8f50bc8922ff"
      },
      "cell_type": "code",
      "source": [
        "#No of top words we have to take=5000\n",
        "no_of_top_words=5000\n",
        "top=counts.most_common(no_of_top_words)\n",
        "top_words=[]\n",
        "for word in top:\n",
        "  top_words.append(word[0])\n",
        "print(\"Top words\\tFrequency\")\n",
        "for i in range(0,10):\n",
        "  print(top[i][0],\"\\t\\t\",top[i][1])"
      ],
      "execution_count": 33,
      "outputs": [
        {
          "output_type": "stream",
          "text": [
            "Top words\tFrequency\n",
            "the \t\t 13242\n",
            "I \t\t 11254\n",
            "and \t\t 10162\n",
            "a \t\t 9589\n",
            "to \t\t 8081\n",
            "of \t\t 6381\n",
            "is \t\t 5917\n",
            "it \t\t 5084\n",
            "for \t\t 4292\n",
            "in \t\t 4256\n"
          ],
          "name": "stdout"
        }
      ]
    },
    {
      "metadata": {
        "id": "vXy1rMFEFXzd",
        "colab_type": "code",
        "colab": {}
      },
      "cell_type": "code",
      "source": [
        "x_list=[]\n",
        "i=0\n",
        "for review in reviews:\n",
        "  index_list=[]\n",
        "  for word in review.split():\n",
        "    try:\n",
        "      if word in top_words:\n",
        "        index_list.append(top_words.index(word))\n",
        "    except:\n",
        "      print(word,\": Not found\")\n",
        "  x_list.append(index_list)\n",
        "  i+=1"
      ],
      "execution_count": 0,
      "outputs": []
    },
    {
      "metadata": {
        "id": "V90rGXH8JcKP",
        "colab_type": "text"
      },
      "cell_type": "markdown",
      "source": [
        "**Splitting into train and test**"
      ]
    },
    {
      "metadata": {
        "id": "JNH5tCovJboF",
        "colab_type": "code",
        "colab": {}
      },
      "cell_type": "code",
      "source": [
        "y_train=y[0:3958]\n",
        "x_train=x_list[0:3958]\n",
        "y_test=y[3958:]\n",
        "x_test=x_list[3958:]"
      ],
      "execution_count": 0,
      "outputs": []
    },
    {
      "metadata": {
        "id": "AZkNHpO1KLGA",
        "colab_type": "code",
        "colab": {
          "base_uri": "https://localhost:8080/",
          "height": 50
        },
        "outputId": "8cf7943c-3ab4-4e00-97df-e93f8372ca65"
      },
      "cell_type": "code",
      "source": [
        "print(\"training size of x= {} y= {}\".format(len(y_train),len(x_train)))\n",
        "print(\"test size of x= {} y= {}\" .format(len(y_test) ,len(x_test)))"
      ],
      "execution_count": 36,
      "outputs": [
        {
          "output_type": "stream",
          "text": [
            "training size of x= 3958 y= 3958\n",
            "test size of x= 990 y= 990\n"
          ],
          "name": "stdout"
        }
      ]
    },
    {
      "metadata": {
        "id": "1IBypvLTLO2i",
        "colab_type": "code",
        "colab": {
          "base_uri": "https://localhost:8080/",
          "height": 87
        },
        "outputId": "0ac7d1d5-7ad4-458a-ab83-a5b326b7347b"
      },
      "cell_type": "code",
      "source": [
        "print(x_train[1])\n",
        "print(type(x_train[1]))\n",
        "print(len(x_train[1]))"
      ],
      "execution_count": 37,
      "outputs": [
        {
          "output_type": "stream",
          "text": [
            "[3386, 1122, 526, 131, 28, 24, 36, 38, 3, 33, 1055, 40, 2, 31, 0, 191, 254, 5, 174, 1432, 96, 6, 66, 757, 8, 10, 2305, 1, 81, 11, 684, 5, 1976, 42, 28, 298, 0, 35, 3726, 4, 372, 23, 53, 3, 40, 5, 10, 54, 2302]\n",
            "<class 'list'>\n",
            "49\n"
          ],
          "name": "stdout"
        }
      ]
    },
    {
      "metadata": {
        "id": "1ZJUJ4XsM83A",
        "colab_type": "text"
      },
      "cell_type": "markdown",
      "source": [
        "# 3.2 **Padding**"
      ]
    },
    {
      "metadata": {
        "id": "A-d0SB5jLaba",
        "colab_type": "code",
        "colab": {
          "base_uri": "https://localhost:8080/",
          "height": 756
        },
        "outputId": "01c0f6ec-b6f3-467d-8d7f-98175e0634f5"
      },
      "cell_type": "code",
      "source": [
        "max_review_length = 600\n",
        "x_train=sequence.pad_sequences(x_train,maxlen=max_review_length)\n",
        "x_test=sequence.pad_sequences(x_test,maxlen=max_review_length)\n",
        "print(\"Training data Shape\",x_train.shape)\n",
        "print(x_train[1])"
      ],
      "execution_count": 38,
      "outputs": [
        {
          "output_type": "stream",
          "text": [
            "Training data Shape (3958, 600)\n",
            "[   0    0    0    0    0    0    0    0    0    0    0    0    0    0\n",
            "    0    0    0    0    0    0    0    0    0    0    0    0    0    0\n",
            "    0    0    0    0    0    0    0    0    0    0    0    0    0    0\n",
            "    0    0    0    0    0    0    0    0    0    0    0    0    0    0\n",
            "    0    0    0    0    0    0    0    0    0    0    0    0    0    0\n",
            "    0    0    0    0    0    0    0    0    0    0    0    0    0    0\n",
            "    0    0    0    0    0    0    0    0    0    0    0    0    0    0\n",
            "    0    0    0    0    0    0    0    0    0    0    0    0    0    0\n",
            "    0    0    0    0    0    0    0    0    0    0    0    0    0    0\n",
            "    0    0    0    0    0    0    0    0    0    0    0    0    0    0\n",
            "    0    0    0    0    0    0    0    0    0    0    0    0    0    0\n",
            "    0    0    0    0    0    0    0    0    0    0    0    0    0    0\n",
            "    0    0    0    0    0    0    0    0    0    0    0    0    0    0\n",
            "    0    0    0    0    0    0    0    0    0    0    0    0    0    0\n",
            "    0    0    0    0    0    0    0    0    0    0    0    0    0    0\n",
            "    0    0    0    0    0    0    0    0    0    0    0    0    0    0\n",
            "    0    0    0    0    0    0    0    0    0    0    0    0    0    0\n",
            "    0    0    0    0    0    0    0    0    0    0    0    0    0    0\n",
            "    0    0    0    0    0    0    0    0    0    0    0    0    0    0\n",
            "    0    0    0    0    0    0    0    0    0    0    0    0    0    0\n",
            "    0    0    0    0    0    0    0    0    0    0    0    0    0    0\n",
            "    0    0    0    0    0    0    0    0    0    0    0    0    0    0\n",
            "    0    0    0    0    0    0    0    0    0    0    0    0    0    0\n",
            "    0    0    0    0    0    0    0    0    0    0    0    0    0    0\n",
            "    0    0    0    0    0    0    0    0    0    0    0    0    0    0\n",
            "    0    0    0    0    0    0    0    0    0    0    0    0    0    0\n",
            "    0    0    0    0    0    0    0    0    0    0    0    0    0    0\n",
            "    0    0    0    0    0    0    0    0    0    0    0    0    0    0\n",
            "    0    0    0    0    0    0    0    0    0    0    0    0    0    0\n",
            "    0    0    0    0    0    0    0    0    0    0    0    0    0    0\n",
            "    0    0    0    0    0    0    0    0    0    0    0    0    0    0\n",
            "    0    0    0    0    0    0    0    0    0    0    0    0    0    0\n",
            "    0    0    0    0    0    0    0    0    0    0    0    0    0    0\n",
            "    0    0    0    0    0    0    0    0    0    0    0    0    0    0\n",
            "    0    0    0    0    0    0    0    0    0    0    0    0    0    0\n",
            "    0    0    0    0    0    0    0    0    0    0    0    0    0    0\n",
            "    0    0    0    0    0    0    0    0    0    0    0    0    0    0\n",
            "    0    0    0    0    0    0    0    0    0    0    0    0    0    0\n",
            "    0    0    0    0    0    0    0    0    0    0    0    0    0    0\n",
            "    0    0    0    0    0 3386 1122  526  131   28   24   36   38    3\n",
            "   33 1055   40    2   31    0  191  254    5  174 1432   96    6   66\n",
            "  757    8   10 2305    1   81   11  684    5 1976   42   28  298    0\n",
            "   35 3726    4  372   23   53    3   40    5   10   54 2302]\n"
          ],
          "name": "stdout"
        }
      ]
    },
    {
      "metadata": {
        "id": "U8JoaTcqU_WV",
        "colab_type": "text"
      },
      "cell_type": "markdown",
      "source": [
        "# Architecture-1"
      ]
    },
    {
      "metadata": {
        "id": "8qWctUIKO4gG",
        "colab_type": "code",
        "colab": {
          "base_uri": "https://localhost:8080/",
          "height": 252
        },
        "outputId": "6f2435f1-23b1-4ea3-8c54-1bb0a315933a"
      },
      "cell_type": "code",
      "source": [
        "embedding_vector_length=32\n",
        "model=Sequential()\n",
        "model.add(Embedding(no_of_top_words,embedding_vector_length,input_length=max_review_length))\n",
        "model.add(LSTM(100))\n",
        "model.add(Dense(1,activation='sigmoid'))\n",
        "model.compile(loss='binary_crossentropy',optimizer='adam',metrics=['accuracy'])\n",
        "print(model.summary())"
      ],
      "execution_count": 39,
      "outputs": [
        {
          "output_type": "stream",
          "text": [
            "_________________________________________________________________\n",
            "Layer (type)                 Output Shape              Param #   \n",
            "=================================================================\n",
            "embedding_2 (Embedding)      (None, 600, 32)           160000    \n",
            "_________________________________________________________________\n",
            "lstm_2 (LSTM)                (None, 100)               53200     \n",
            "_________________________________________________________________\n",
            "dense_2 (Dense)              (None, 1)                 101       \n",
            "=================================================================\n",
            "Total params: 213,301\n",
            "Trainable params: 213,301\n",
            "Non-trainable params: 0\n",
            "_________________________________________________________________\n",
            "None\n"
          ],
          "name": "stdout"
        }
      ]
    },
    {
      "metadata": {
        "id": "S_gTANBSQXpd",
        "colab_type": "code",
        "colab": {
          "base_uri": "https://localhost:8080/",
          "height": 423
        },
        "outputId": "ef930fc0-9680-446f-db75-565182cc216a"
      },
      "cell_type": "code",
      "source": [
        "history=model.fit(x_train, y_train, nb_epoch=10, batch_size=64,validation_data=(x_test,y_test))"
      ],
      "execution_count": 42,
      "outputs": [
        {
          "output_type": "stream",
          "text": [
            "/usr/local/lib/python3.6/dist-packages/ipykernel_launcher.py:1: UserWarning: The `nb_epoch` argument in `fit` has been renamed `epochs`.\n",
            "  \"\"\"Entry point for launching an IPython kernel.\n"
          ],
          "name": "stderr"
        },
        {
          "output_type": "stream",
          "text": [
            "Train on 3958 samples, validate on 990 samples\n",
            "Epoch 1/10\n",
            "3958/3958 [==============================] - 81s 20ms/step - loss: 0.0012 - acc: 1.0000 - val_loss: 0.7272 - val_acc: 0.8828\n",
            "Epoch 2/10\n",
            "3958/3958 [==============================] - 81s 20ms/step - loss: 7.9504e-04 - acc: 1.0000 - val_loss: 0.7401 - val_acc: 0.8828\n",
            "Epoch 3/10\n",
            "3958/3958 [==============================] - 80s 20ms/step - loss: 5.6745e-04 - acc: 1.0000 - val_loss: 0.7701 - val_acc: 0.8828\n",
            "Epoch 4/10\n",
            "3958/3958 [==============================] - 80s 20ms/step - loss: 4.5361e-04 - acc: 1.0000 - val_loss: 0.7999 - val_acc: 0.8818\n",
            "Epoch 5/10\n",
            "3958/3958 [==============================] - 80s 20ms/step - loss: 3.5163e-04 - acc: 1.0000 - val_loss: 0.8169 - val_acc: 0.8808\n",
            "Epoch 6/10\n",
            "3958/3958 [==============================] - 81s 20ms/step - loss: 0.0391 - acc: 0.9848 - val_loss: 0.4863 - val_acc: 0.8616\n",
            "Epoch 7/10\n",
            "3958/3958 [==============================] - 80s 20ms/step - loss: 0.0409 - acc: 0.9859 - val_loss: 0.5178 - val_acc: 0.8798\n",
            "Epoch 8/10\n",
            "3958/3958 [==============================] - 81s 20ms/step - loss: 0.0086 - acc: 0.9982 - val_loss: 0.5850 - val_acc: 0.8838\n",
            "Epoch 9/10\n",
            "3958/3958 [==============================] - 80s 20ms/step - loss: 0.0067 - acc: 0.9987 - val_loss: 0.6552 - val_acc: 0.8848\n",
            "Epoch 10/10\n",
            "3958/3958 [==============================] - 81s 20ms/step - loss: 0.0018 - acc: 0.9997 - val_loss: 0.7186 - val_acc: 0.8899\n"
          ],
          "name": "stdout"
        }
      ]
    },
    {
      "metadata": {
        "id": "3wPXRILUUB4T",
        "colab_type": "code",
        "colab": {
          "base_uri": "https://localhost:8080/",
          "height": 410
        },
        "outputId": "a11e88c8-a86d-4eb5-f293-fa0fe94fcc2c"
      },
      "cell_type": "code",
      "source": [
        "# Final evaluation of the model\n",
        "score=model.evaluate(x_test,y_test,verbose=0)\n",
        "print('Test Loss:%.4f '%score[0])\n",
        "print('Test Accuracy: %.4f'%score[1])\n",
        "x = list(range(1,11))\n",
        "val_loss=history.history['val_loss']\n",
        "tr_loss=history.history['loss']\n",
        "plt.plot(x,val_loss,label=\"Validation LOss\")\n",
        "plt.plot(x,tr_loss,label=\"Training LOss\")\n",
        "plt.xlabel(\"No of Epochs\")\n",
        "plt.ylabel(\"Loss\")\n",
        "plt.title(\"Loss Vs Epochs\")\n",
        "plt.legend()\n",
        "plt.show()"
      ],
      "execution_count": 45,
      "outputs": [
        {
          "output_type": "stream",
          "text": [
            "Test Loss:0.7187 \n",
            "Test Accuracy: 0.8899\n"
          ],
          "name": "stdout"
        },
        {
          "output_type": "display_data",
          "data": {
            "image/png": "[encoded data removed]",
            "text/plain": [
              "<Figure size 576x396 with 1 Axes>"
            ]
          },
          "metadata": {
            "tags": []
          }
        }
      ]
    },
    {
      "metadata": {
        "id": "djwfZLmTR_Ui",
        "colab_type": "text"
      },
      "cell_type": "markdown",
      "source": [
        "# Architecture-2"
      ]
    },
    {
      "metadata": {
        "id": "0lnL4e2RSFVE",
        "colab_type": "code",
        "colab": {
          "base_uri": "https://localhost:8080/",
          "height": 319
        },
        "outputId": "2eb5f243-3343-4771-ebc8-c7cdb71db98a"
      },
      "cell_type": "code",
      "source": [
        "embedding_vector_length=16\n",
        "model=Sequential()\n",
        "model.add(Embedding(no_of_top_words,embedding_vector_length,input_length=max_review_length))\n",
        "model.add(LSTM(100,return_sequences=True))\n",
        "model.add(LSTM(100))\n",
        "model.add(Dropout(0.25))\n",
        "model.add(Dense(1,activation='sigmoid'))\n",
        "model.compile(loss='binary_crossentropy',optimizer='adam',metrics=['accuracy'])\n",
        "print(model.summary())"
      ],
      "execution_count": 67,
      "outputs": [
        {
          "output_type": "stream",
          "text": [
            "_________________________________________________________________\n",
            "Layer (type)                 Output Shape              Param #   \n",
            "=================================================================\n",
            "embedding_17 (Embedding)     (None, 600, 16)           80000     \n",
            "_________________________________________________________________\n",
            "lstm_26 (LSTM)               (None, 600, 100)          46800     \n",
            "_________________________________________________________________\n",
            "lstm_27 (LSTM)               (None, 100)               80400     \n",
            "_________________________________________________________________\n",
            "dropout_7 (Dropout)          (None, 100)               0         \n",
            "_________________________________________________________________\n",
            "dense_9 (Dense)              (None, 1)                 101       \n",
            "=================================================================\n",
            "Total params: 207,301\n",
            "Trainable params: 207,301\n",
            "Non-trainable params: 0\n",
            "_________________________________________________________________\n",
            "None\n"
          ],
          "name": "stdout"
        }
      ]
    },
    {
      "metadata": {
        "id": "B9RtCxkuz2UG",
        "colab_type": "code",
        "colab": {
          "base_uri": "https://localhost:8080/",
          "height": 423
        },
        "outputId": "da3f4211-8853-454f-ee7e-82e82ab5f731"
      },
      "cell_type": "code",
      "source": [
        "history=model.fit(x_train, y_train, nb_epoch=10, batch_size=64,validation_data=(x_test,y_test))"
      ],
      "execution_count": 68,
      "outputs": [
        {
          "output_type": "stream",
          "text": [
            "/usr/local/lib/python3.6/dist-packages/ipykernel_launcher.py:1: UserWarning: The `nb_epoch` argument in `fit` has been renamed `epochs`.\n",
            "  \"\"\"Entry point for launching an IPython kernel.\n"
          ],
          "name": "stderr"
        },
        {
          "output_type": "stream",
          "text": [
            "Train on 3958 samples, validate on 990 samples\n",
            "Epoch 1/10\n",
            "3958/3958 [==============================] - 168s 42ms/step - loss: 0.4713 - acc: 0.8459 - val_loss: 0.3994 - val_acc: 0.8626\n",
            "Epoch 2/10\n",
            "3958/3958 [==============================] - 165s 42ms/step - loss: 0.3887 - acc: 0.8560 - val_loss: 0.3304 - val_acc: 0.8737\n",
            "Epoch 3/10\n",
            "3958/3958 [==============================] - 164s 41ms/step - loss: 0.2088 - acc: 0.9186 - val_loss: 0.3110 - val_acc: 0.8838\n",
            "Epoch 4/10\n",
            "3958/3958 [==============================] - 166s 42ms/step - loss: 0.1073 - acc: 0.9651 - val_loss: 0.4015 - val_acc: 0.8879\n",
            "Epoch 5/10\n",
            "3958/3958 [==============================] - 164s 41ms/step - loss: 0.0624 - acc: 0.9798 - val_loss: 0.4163 - val_acc: 0.8778\n",
            "Epoch 6/10\n",
            "3958/3958 [==============================] - 165s 42ms/step - loss: 0.0371 - acc: 0.9886 - val_loss: 0.4914 - val_acc: 0.8727\n",
            "Epoch 7/10\n",
            "3958/3958 [==============================] - 165s 42ms/step - loss: 0.0181 - acc: 0.9957 - val_loss: 0.5148 - val_acc: 0.8788\n",
            "Epoch 8/10\n",
            "3958/3958 [==============================] - 165s 42ms/step - loss: 0.0073 - acc: 0.9990 - val_loss: 0.6484 - val_acc: 0.8848\n",
            "Epoch 9/10\n",
            "3958/3958 [==============================] - 165s 42ms/step - loss: 0.0028 - acc: 0.9997 - val_loss: 0.6355 - val_acc: 0.8788\n",
            "Epoch 10/10\n",
            "3958/3958 [==============================] - 166s 42ms/step - loss: 7.7896e-04 - acc: 1.0000 - val_loss: 0.7402 - val_acc: 0.8818\n"
          ],
          "name": "stdout"
        }
      ]
    },
    {
      "metadata": {
        "id": "T-jSJRPXzvCc",
        "colab_type": "code",
        "colab": {
          "base_uri": "https://localhost:8080/",
          "height": 410
        },
        "outputId": "f3f28315-f5ee-42c7-ab37-3f7d16455c8c"
      },
      "cell_type": "code",
      "source": [
        "# Final evaluation of the model\n",
        "score=model.evaluate(x_test,y_test,verbose=0)\n",
        "print('Test Loss:%.4f '%score[0])\n",
        "print('Test Accuracy: %.4f'%score[1])\n",
        "x = list(range(1,11))\n",
        "val_loss=history.history['val_loss']\n",
        "tr_loss=history.history['loss']\n",
        "plt.plot(x,val_loss,label=\"Validation LOss\")\n",
        "plt.plot(x,tr_loss,label=\"Training LOss\")\n",
        "plt.xlabel(\"No of Epochs\")\n",
        "plt.ylabel(\"Loss\")\n",
        "plt.title(\"Loss Vs Epochs\")\n",
        "plt.legend()\n",
        "plt.show()"
      ],
      "execution_count": 69,
      "outputs": [
        {
          "output_type": "stream",
          "text": [
            "Test Loss:0.7402 \n",
            "Test Accuracy: 0.8818\n"
          ],
          "name": "stdout"
        },
        {
          "output_type": "display_data",
          "data": {
            "image/png": "[encoded data removed]",
            "text/plain": [
              "<Figure size 576x396 with 1 Axes>"
            ]
          },
          "metadata": {
            "tags": []
          }
        }
      ]
    },
    {
      "metadata": {
        "id": "O4xzbyVc4L5q",
        "colab_type": "text"
      },
      "cell_type": "markdown",
      "source": [
        "**No of epoch =3**"
      ]
    },
    {
      "metadata": {
        "id": "M_yGXQRo6hzv",
        "colab_type": "text"
      },
      "cell_type": "markdown",
      "source": [
        "# Architecture -3"
      ]
    },
    {
      "metadata": {
        "id": "oF-s4ztY4SG7",
        "colab_type": "code",
        "colab": {
          "base_uri": "https://localhost:8080/",
          "height": 353
        },
        "outputId": "401a6dbb-12a1-4ac8-da8d-aff6a8eda5a9"
      },
      "cell_type": "code",
      "source": [
        "embedding_vector_length=32\n",
        "model=Sequential()\n",
        "model.add(Embedding(no_of_top_words,embedding_vector_length,input_length=max_review_length))\n",
        "model.add(LSTM(32,return_sequences=True))\n",
        "model.add(LSTM(32,return_sequences=True))\n",
        "model.add(Dropout(0.25))\n",
        "model.add(LSTM(32))\n",
        "model.add(Dense(1,activation='sigmoid'))\n",
        "model.compile(loss='binary_crossentropy',optimizer='adam',metrics=['accuracy'])\n",
        "print(model.summary())"
      ],
      "execution_count": 64,
      "outputs": [
        {
          "output_type": "stream",
          "text": [
            "_________________________________________________________________\n",
            "Layer (type)                 Output Shape              Param #   \n",
            "=================================================================\n",
            "embedding_16 (Embedding)     (None, 600, 32)           160000    \n",
            "_________________________________________________________________\n",
            "lstm_23 (LSTM)               (None, 600, 32)           8320      \n",
            "_________________________________________________________________\n",
            "lstm_24 (LSTM)               (None, 600, 32)           8320      \n",
            "_________________________________________________________________\n",
            "dropout_6 (Dropout)          (None, 600, 32)           0         \n",
            "_________________________________________________________________\n",
            "lstm_25 (LSTM)               (None, 32)                8320      \n",
            "_________________________________________________________________\n",
            "dense_8 (Dense)              (None, 1)                 33        \n",
            "=================================================================\n",
            "Total params: 184,993\n",
            "Trainable params: 184,993\n",
            "Non-trainable params: 0\n",
            "_________________________________________________________________\n",
            "None\n"
          ],
          "name": "stdout"
        }
      ]
    },
    {
      "metadata": {
        "id": "C-Zkcc977a6A",
        "colab_type": "code",
        "colab": {
          "base_uri": "https://localhost:8080/",
          "height": 423
        },
        "outputId": "9885ae1b-ac94-4300-b43b-aa19d3af9cd3"
      },
      "cell_type": "code",
      "source": [
        "history=model.fit(x_train, y_train, nb_epoch=10, batch_size=64,validation_data=(x_test,y_test))"
      ],
      "execution_count": 65,
      "outputs": [
        {
          "output_type": "stream",
          "text": [
            "/usr/local/lib/python3.6/dist-packages/ipykernel_launcher.py:1: UserWarning: The `nb_epoch` argument in `fit` has been renamed `epochs`.\n",
            "  \"\"\"Entry point for launching an IPython kernel.\n"
          ],
          "name": "stderr"
        },
        {
          "output_type": "stream",
          "text": [
            "Train on 3958 samples, validate on 990 samples\n",
            "Epoch 1/10\n",
            "3958/3958 [==============================] - 82s 21ms/step - loss: 0.4902 - acc: 0.8406 - val_loss: 0.3951 - val_acc: 0.8626\n",
            "Epoch 2/10\n",
            "3958/3958 [==============================] - 77s 19ms/step - loss: 0.3631 - acc: 0.8575 - val_loss: 0.3330 - val_acc: 0.8626\n",
            "Epoch 3/10\n",
            "3958/3958 [==============================] - 76s 19ms/step - loss: 0.1938 - acc: 0.9275 - val_loss: 0.3418 - val_acc: 0.8818\n",
            "Epoch 4/10\n",
            "3958/3958 [==============================] - 76s 19ms/step - loss: 0.0967 - acc: 0.9666 - val_loss: 0.4062 - val_acc: 0.8808\n",
            "Epoch 5/10\n",
            "3958/3958 [==============================] - 77s 19ms/step - loss: 0.0527 - acc: 0.9843 - val_loss: 0.4346 - val_acc: 0.8747\n",
            "Epoch 6/10\n",
            "3958/3958 [==============================] - 77s 19ms/step - loss: 0.0285 - acc: 0.9919 - val_loss: 0.4942 - val_acc: 0.8737\n",
            "Epoch 7/10\n",
            "3958/3958 [==============================] - 77s 19ms/step - loss: 0.0165 - acc: 0.9962 - val_loss: 0.5904 - val_acc: 0.8636\n",
            "Epoch 8/10\n",
            "3958/3958 [==============================] - 77s 19ms/step - loss: 0.0123 - acc: 0.9972 - val_loss: 0.5919 - val_acc: 0.8677\n",
            "Epoch 9/10\n",
            "3958/3958 [==============================] - 77s 20ms/step - loss: 0.0098 - acc: 0.9977 - val_loss: 0.6556 - val_acc: 0.8818\n",
            "Epoch 10/10\n",
            "3958/3958 [==============================] - 77s 20ms/step - loss: 0.0072 - acc: 0.9980 - val_loss: 0.6600 - val_acc: 0.8798\n"
          ],
          "name": "stdout"
        }
      ]
    },
    {
      "metadata": {
        "id": "FbjLnJUy83kv",
        "colab_type": "code",
        "colab": {
          "base_uri": "https://localhost:8080/",
          "height": 410
        },
        "outputId": "601c8158-7cf6-40f4-9a76-47e5741f4834"
      },
      "cell_type": "code",
      "source": [
        "# Final evaluation of the model\n",
        "score=model.evaluate(x_test,y_test,verbose=0)\n",
        "print('Test Loss:%.4f '%score[0])\n",
        "print('Test Accuracy: %.4f'%score[1])\n",
        "x = list(range(1,11))\n",
        "val_loss=history.history['val_loss']\n",
        "tr_loss=history.history['loss']\n",
        "plt.plot(x,val_loss,label=\"Validation LOss\")\n",
        "plt.plot(x,tr_loss,label=\"Training LOss\")\n",
        "plt.xlabel(\"No of Epochs\")\n",
        "plt.ylabel(\"Loss\")\n",
        "plt.title(\"Loss Vs Epochs\")\n",
        "plt.legend()\n",
        "plt.show()"
      ],
      "execution_count": 66,
      "outputs": [
        {
          "output_type": "stream",
          "text": [
            "Test Loss:0.6600 \n",
            "Test Accuracy: 0.8798\n"
          ],
          "name": "stdout"
        },
        {
          "output_type": "display_data",
          "data": {
            "image/png": "[encoded data removed]",
            "text/plain": [
              "<Figure size 576x396 with 1 Axes>"
            ]
          },
          "metadata": {
            "tags": []
          }
        }
      ]
    },
    {
      "metadata": {
        "id": "grMAPoPo3UJh",
        "colab_type": "text"
      },
      "cell_type": "markdown",
      "source": [
        "# Conclusion:\n"
      ]
    },
    {
      "metadata": {
        "id": "zpNQTBqL3W9l",
        "colab_type": "code",
        "colab": {
          "base_uri": "https://localhost:8080/",
          "height": 134
        },
        "outputId": "63b74773-f6e9-46d6-ff82-3ca48a9e4f50"
      },
      "cell_type": "code",
      "source": [
        "from prettytable import PrettyTable\n",
        "x=PrettyTable()\n",
        "x.field_names=['No of LSTM','units','Accuracy']\n",
        "x.add_row(['1','100','  0.8899'])\n",
        "x.add_row(['2','100',' 0.8818'])\n",
        "x.add_row(['3','32',' 0.8798'])\n",
        "print(x)"
      ],
      "execution_count": 71,
      "outputs": [
        {
          "output_type": "stream",
          "text": [
            "+------------+-------+----------+\n",
            "| No of LSTM | units | Accuracy |\n",
            "+------------+-------+----------+\n",
            "|     1      |  100  |   0.8899 |\n",
            "|     2      |  100  |  0.8818  |\n",
            "|     3      |   32  |  0.8798  |\n",
            "+------------+-------+----------+\n"
          ],
          "name": "stdout"
        }
      ]
    },
    {
      "metadata": {
        "id": "xw3Zgj-OMzcF",
        "colab_type": "text"
      },
      "cell_type": "markdown",
      "source": [
        "# Observations:\n",
        " 1. Architecture -1 has gone underfitting\n",
        " \n",
        " 2. Architecture -2 after third epoch it  started overfitting\n",
        " \n",
        "  2. Architecture -3 after second epoch it  started overfitting"
      ]
    }
  ]
}