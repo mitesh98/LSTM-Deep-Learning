{
  "nbformat": 4,
  "nbformat_minor": 0,
  "metadata": {
    "colab": {
      "name": "LSTM.ipynb",
      "version": "0.3.2",
      "provenance": [],
      "collapsed_sections": [],
      "include_colab_link": true
    },
    "kernelspec": {
      "name": "python3",
      "display_name": "Python 3"
    },
    "accelerator": "TPU"
  },
  "cells": [
    {
      "cell_type": "markdown",
      "metadata": {
        "id": "view-in-github",
        "colab_type": "text"
      },
      "source": [
        "<a href=\"https://colab.research.google.com/github/mitesh98/LSTM-Deep-Learning/blob/master/LSTM.ipynb\" target=\"_parent\"><img src=\"https://colab.research.google.com/assets/colab-badge.svg\" alt=\"Open In Colab\"/></a>"
      ]
    },
    {
      "metadata": {
        "id": "UMk7QVGmgr7M",
        "colab_type": "text"
      },
      "cell_type": "markdown",
      "source": [
        "# 1.Reading Data"
      ]
    },
    {
      "metadata": {
        "id": "NjgmooTdd7qJ",
        "colab_type": "code",
        "outputId": "3831cab9-0570-4bf3-9284-e67dc85891ab",
        "colab": {
          "base_uri": "https://localhost:8080/",
          "height": 34
        }
      },
      "cell_type": "code",
      "source": [
        "import pandas as pd\n",
        "import numpy as np\n",
        "import matplotlib.pyplot as plt\n",
        "import sqlite3\n",
        "import re\n",
        "from bs4 import BeautifulSoup\n",
        "from collections import Counter\n",
        "from collections import OrderedDict \n",
        "from keras.models import Sequential\n",
        "from keras.layers import Dense,Dropout\n",
        "from keras.layers import LSTM\n",
        "from keras.layers.embeddings import Embedding\n",
        "from keras.preprocessing import sequence\n",
        "import keras\n",
        "\n",
        "# fix random seed for reproducibility\n",
        "np.random.seed(7)"
      ],
      "execution_count": 0,
      "outputs": [
        {
          "output_type": "stream",
          "text": [
            "Using TensorFlow backend.\n"
          ],
          "name": "stderr"
        }
      ]
    },
    {
      "metadata": {
        "id": "kXKNJri0aJHN",
        "colab_type": "code",
        "outputId": "e5605476-dbef-49fc-869d-7b2eb3b8fd83",
        "colab": {
          "base_uri": "https://localhost:8080/",
          "height": 122
        }
      },
      "cell_type": "code",
      "source": [
        "from google.colab import drive\n",
        "drive.mount('/content/drive')"
      ],
      "execution_count": 0,
      "outputs": [
        {
          "output_type": "stream",
          "text": [
            "Go to this URL in a browser: https://accounts.google.com/o/oauth2/auth?client_id=947318989803-6bn6qk8qdgf4n4g3pfee6491hc0brc4i.apps.googleusercontent.com&redirect_uri=urn%3Aietf%3Awg%3Aoauth%3A2.0%3Aoob&scope=email%20https%3A%2F%2Fwww.googleapis.com%2Fauth%2Fdocs.test%20https%3A%2F%2Fwww.googleapis.com%2Fauth%2Fdrive%20https%3A%2F%2Fwww.googleapis.com%2Fauth%2Fdrive.photos.readonly%20https%3A%2F%2Fwww.googleapis.com%2Fauth%2Fpeopleapi.readonly&response_type=code\n",
            "\n",
            "Enter your authorization code:\n",
            "··········\n",
            "Mounted at /content/drive\n"
          ],
          "name": "stdout"
        }
      ]
    },
    {
      "metadata": {
        "id": "MxND-onpdnGQ",
        "colab_type": "code",
        "colab": {}
      },
      "cell_type": "code",
      "source": [
        "!cp \"/content/drive/My Drive/database.sqlite\" \"database.sqlite\""
      ],
      "execution_count": 0,
      "outputs": []
    },
    {
      "metadata": {
        "id": "r_IIcr7ed1h_",
        "colab_type": "code",
        "outputId": "dc0a8cbf-435c-4588-9bad-783a3bbcd49b",
        "colab": {
          "base_uri": "https://localhost:8080/",
          "height": 323
        }
      },
      "cell_type": "code",
      "source": [
        "con=sqlite3.connect(\"database.sqlite\")\n",
        "filtered_data=pd.read_sql_query(\"SELECT * FROM `Reviews` WHERE `Score` !=3\",con)\n",
        "filtered_data.shape\n",
        "filtered_data.head()"
      ],
      "execution_count": 0,
      "outputs": [
        {
          "output_type": "execute_result",
          "data": {
            "text/html": [
              "<div>\n",
              "<style scoped>\n",
              "    .dataframe tbody tr th:only-of-type {\n",
              "        vertical-align: middle;\n",
              "    }\n",
              "\n",
              "    .dataframe tbody tr th {\n",
              "        vertical-align: top;\n",
              "    }\n",
              "\n",
              "    .dataframe thead th {\n",
              "        text-align: right;\n",
              "    }\n",
              "</style>\n",
              "<table border=\"1\" class=\"dataframe\">\n",
              "  <thead>\n",
              "    <tr style=\"text-align: right;\">\n",
              "      <th></th>\n",
              "      <th>Id</th>\n",
              "      <th>ProductId</th>\n",
              "      <th>UserId</th>\n",
              "      <th>ProfileName</th>\n",
              "      <th>HelpfulnessNumerator</th>\n",
              "      <th>HelpfulnessDenominator</th>\n",
              "      <th>Score</th>\n",
              "      <th>Time</th>\n",
              "      <th>Summary</th>\n",
              "      <th>Text</th>\n",
              "    </tr>\n",
              "  </thead>\n",
              "  <tbody>\n",
              "    <tr>\n",
              "      <th>0</th>\n",
              "      <td>1</td>\n",
              "      <td>B001E4KFG0</td>\n",
              "      <td>A3SGXH7AUHU8GW</td>\n",
              "      <td>delmartian</td>\n",
              "      <td>1</td>\n",
              "      <td>1</td>\n",
              "      <td>5</td>\n",
              "      <td>1303862400</td>\n",
              "      <td>Good Quality Dog Food</td>\n",
              "      <td>I have bought several of the Vitality canned d...</td>\n",
              "    </tr>\n",
              "    <tr>\n",
              "      <th>1</th>\n",
              "      <td>2</td>\n",
              "      <td>B00813GRG4</td>\n",
              "      <td>A1D87F6ZCVE5NK</td>\n",
              "      <td>dll pa</td>\n",
              "      <td>0</td>\n",
              "      <td>0</td>\n",
              "      <td>1</td>\n",
              "      <td>1346976000</td>\n",
              "      <td>Not as Advertised</td>\n",
              "      <td>Product arrived labeled as Jumbo Salted Peanut...</td>\n",
              "    </tr>\n",
              "    <tr>\n",
              "      <th>2</th>\n",
              "      <td>3</td>\n",
              "      <td>B000LQOCH0</td>\n",
              "      <td>ABXLMWJIXXAIN</td>\n",
              "      <td>Natalia Corres \"Natalia Corres\"</td>\n",
              "      <td>1</td>\n",
              "      <td>1</td>\n",
              "      <td>4</td>\n",
              "      <td>1219017600</td>\n",
              "      <td>\"Delight\" says it all</td>\n",
              "      <td>This is a confection that has been around a fe...</td>\n",
              "    </tr>\n",
              "    <tr>\n",
              "      <th>3</th>\n",
              "      <td>4</td>\n",
              "      <td>B000UA0QIQ</td>\n",
              "      <td>A395BORC6FGVXV</td>\n",
              "      <td>Karl</td>\n",
              "      <td>3</td>\n",
              "      <td>3</td>\n",
              "      <td>2</td>\n",
              "      <td>1307923200</td>\n",
              "      <td>Cough Medicine</td>\n",
              "      <td>If you are looking for the secret ingredient i...</td>\n",
              "    </tr>\n",
              "    <tr>\n",
              "      <th>4</th>\n",
              "      <td>5</td>\n",
              "      <td>B006K2ZZ7K</td>\n",
              "      <td>A1UQRSCLF8GW1T</td>\n",
              "      <td>Michael D. Bigham \"M. Wassir\"</td>\n",
              "      <td>0</td>\n",
              "      <td>0</td>\n",
              "      <td>5</td>\n",
              "      <td>1350777600</td>\n",
              "      <td>Great taffy</td>\n",
              "      <td>Great taffy at a great price.  There was a wid...</td>\n",
              "    </tr>\n",
              "  </tbody>\n",
              "</table>\n",
              "</div>"
            ],
            "text/plain": [
              "   Id   ProductId          UserId                      ProfileName  \\\n",
              "0   1  B001E4KFG0  A3SGXH7AUHU8GW                       delmartian   \n",
              "1   2  B00813GRG4  A1D87F6ZCVE5NK                           dll pa   \n",
              "2   3  B000LQOCH0   ABXLMWJIXXAIN  Natalia Corres \"Natalia Corres\"   \n",
              "3   4  B000UA0QIQ  A395BORC6FGVXV                             Karl   \n",
              "4   5  B006K2ZZ7K  A1UQRSCLF8GW1T    Michael D. Bigham \"M. Wassir\"   \n",
              "\n",
              "   HelpfulnessNumerator  HelpfulnessDenominator  Score        Time  \\\n",
              "0                     1                       1      5  1303862400   \n",
              "1                     0                       0      1  1346976000   \n",
              "2                     1                       1      4  1219017600   \n",
              "3                     3                       3      2  1307923200   \n",
              "4                     0                       0      5  1350777600   \n",
              "\n",
              "                 Summary                                               Text  \n",
              "0  Good Quality Dog Food  I have bought several of the Vitality canned d...  \n",
              "1      Not as Advertised  Product arrived labeled as Jumbo Salted Peanut...  \n",
              "2  \"Delight\" says it all  This is a confection that has been around a fe...  \n",
              "3         Cough Medicine  If you are looking for the secret ingredient i...  \n",
              "4            Great taffy  Great taffy at a great price.  There was a wid...  "
            ]
          },
          "metadata": {
            "tags": []
          },
          "execution_count": 4
        }
      ]
    },
    {
      "metadata": {
        "id": "iYO5LiZae7C6",
        "colab_type": "code",
        "colab": {}
      },
      "cell_type": "code",
      "source": [
        "def partition(x):\n",
        "    if x < 3:\n",
        "        return 0\n",
        "    return 1"
      ],
      "execution_count": 0,
      "outputs": []
    },
    {
      "metadata": {
        "id": "75jRDusWe_lg",
        "colab_type": "code",
        "outputId": "da424264-1222-484c-d1fd-32b0681f1f89",
        "colab": {
          "base_uri": "https://localhost:8080/",
          "height": 323
        }
      },
      "cell_type": "code",
      "source": [
        "actual_score=filtered_data['Score']\n",
        "posnegative=actual_score.map(partition)\n",
        "filtered_data['Score']=posnegative\n",
        "filtered_data.head(5)"
      ],
      "execution_count": 0,
      "outputs": [
        {
          "output_type": "execute_result",
          "data": {
            "text/html": [
              "<div>\n",
              "<style scoped>\n",
              "    .dataframe tbody tr th:only-of-type {\n",
              "        vertical-align: middle;\n",
              "    }\n",
              "\n",
              "    .dataframe tbody tr th {\n",
              "        vertical-align: top;\n",
              "    }\n",
              "\n",
              "    .dataframe thead th {\n",
              "        text-align: right;\n",
              "    }\n",
              "</style>\n",
              "<table border=\"1\" class=\"dataframe\">\n",
              "  <thead>\n",
              "    <tr style=\"text-align: right;\">\n",
              "      <th></th>\n",
              "      <th>Id</th>\n",
              "      <th>ProductId</th>\n",
              "      <th>UserId</th>\n",
              "      <th>ProfileName</th>\n",
              "      <th>HelpfulnessNumerator</th>\n",
              "      <th>HelpfulnessDenominator</th>\n",
              "      <th>Score</th>\n",
              "      <th>Time</th>\n",
              "      <th>Summary</th>\n",
              "      <th>Text</th>\n",
              "    </tr>\n",
              "  </thead>\n",
              "  <tbody>\n",
              "    <tr>\n",
              "      <th>0</th>\n",
              "      <td>1</td>\n",
              "      <td>B001E4KFG0</td>\n",
              "      <td>A3SGXH7AUHU8GW</td>\n",
              "      <td>delmartian</td>\n",
              "      <td>1</td>\n",
              "      <td>1</td>\n",
              "      <td>1</td>\n",
              "      <td>1303862400</td>\n",
              "      <td>Good Quality Dog Food</td>\n",
              "      <td>I have bought several of the Vitality canned d...</td>\n",
              "    </tr>\n",
              "    <tr>\n",
              "      <th>1</th>\n",
              "      <td>2</td>\n",
              "      <td>B00813GRG4</td>\n",
              "      <td>A1D87F6ZCVE5NK</td>\n",
              "      <td>dll pa</td>\n",
              "      <td>0</td>\n",
              "      <td>0</td>\n",
              "      <td>0</td>\n",
              "      <td>1346976000</td>\n",
              "      <td>Not as Advertised</td>\n",
              "      <td>Product arrived labeled as Jumbo Salted Peanut...</td>\n",
              "    </tr>\n",
              "    <tr>\n",
              "      <th>2</th>\n",
              "      <td>3</td>\n",
              "      <td>B000LQOCH0</td>\n",
              "      <td>ABXLMWJIXXAIN</td>\n",
              "      <td>Natalia Corres \"Natalia Corres\"</td>\n",
              "      <td>1</td>\n",
              "      <td>1</td>\n",
              "      <td>1</td>\n",
              "      <td>1219017600</td>\n",
              "      <td>\"Delight\" says it all</td>\n",
              "      <td>This is a confection that has been around a fe...</td>\n",
              "    </tr>\n",
              "    <tr>\n",
              "      <th>3</th>\n",
              "      <td>4</td>\n",
              "      <td>B000UA0QIQ</td>\n",
              "      <td>A395BORC6FGVXV</td>\n",
              "      <td>Karl</td>\n",
              "      <td>3</td>\n",
              "      <td>3</td>\n",
              "      <td>0</td>\n",
              "      <td>1307923200</td>\n",
              "      <td>Cough Medicine</td>\n",
              "      <td>If you are looking for the secret ingredient i...</td>\n",
              "    </tr>\n",
              "    <tr>\n",
              "      <th>4</th>\n",
              "      <td>5</td>\n",
              "      <td>B006K2ZZ7K</td>\n",
              "      <td>A1UQRSCLF8GW1T</td>\n",
              "      <td>Michael D. Bigham \"M. Wassir\"</td>\n",
              "      <td>0</td>\n",
              "      <td>0</td>\n",
              "      <td>1</td>\n",
              "      <td>1350777600</td>\n",
              "      <td>Great taffy</td>\n",
              "      <td>Great taffy at a great price.  There was a wid...</td>\n",
              "    </tr>\n",
              "  </tbody>\n",
              "</table>\n",
              "</div>"
            ],
            "text/plain": [
              "   Id   ProductId          UserId                      ProfileName  \\\n",
              "0   1  B001E4KFG0  A3SGXH7AUHU8GW                       delmartian   \n",
              "1   2  B00813GRG4  A1D87F6ZCVE5NK                           dll pa   \n",
              "2   3  B000LQOCH0   ABXLMWJIXXAIN  Natalia Corres \"Natalia Corres\"   \n",
              "3   4  B000UA0QIQ  A395BORC6FGVXV                             Karl   \n",
              "4   5  B006K2ZZ7K  A1UQRSCLF8GW1T    Michael D. Bigham \"M. Wassir\"   \n",
              "\n",
              "   HelpfulnessNumerator  HelpfulnessDenominator  Score        Time  \\\n",
              "0                     1                       1      1  1303862400   \n",
              "1                     0                       0      0  1346976000   \n",
              "2                     1                       1      1  1219017600   \n",
              "3                     3                       3      0  1307923200   \n",
              "4                     0                       0      1  1350777600   \n",
              "\n",
              "                 Summary                                               Text  \n",
              "0  Good Quality Dog Food  I have bought several of the Vitality canned d...  \n",
              "1      Not as Advertised  Product arrived labeled as Jumbo Salted Peanut...  \n",
              "2  \"Delight\" says it all  This is a confection that has been around a fe...  \n",
              "3         Cough Medicine  If you are looking for the secret ingredient i...  \n",
              "4            Great taffy  Great taffy at a great price.  There was a wid...  "
            ]
          },
          "metadata": {
            "tags": []
          },
          "execution_count": 6
        }
      ]
    },
    {
      "metadata": {
        "id": "T7zlh7RbfE5g",
        "colab_type": "code",
        "colab": {}
      },
      "cell_type": "code",
      "source": [
        "df=filtered_data.sample(5000)\n"
      ],
      "execution_count": 0,
      "outputs": []
    },
    {
      "metadata": {
        "id": "k4H0KkP-fQ6_",
        "colab_type": "code",
        "outputId": "719361af-1c37-475a-e603-f71451d7ea1f",
        "colab": {
          "base_uri": "https://localhost:8080/",
          "height": 34
        }
      },
      "cell_type": "code",
      "source": [
        "df.shape"
      ],
      "execution_count": 0,
      "outputs": [
        {
          "output_type": "execute_result",
          "data": {
            "text/plain": [
              "(5000, 10)"
            ]
          },
          "metadata": {
            "tags": []
          },
          "execution_count": 8
        }
      ]
    },
    {
      "metadata": {
        "id": "irP7tpJHfqu4",
        "colab_type": "code",
        "outputId": "f4337fbf-cdb8-4735-8b5d-3e35b480f883",
        "colab": {
          "base_uri": "https://localhost:8080/",
          "height": 34
        }
      },
      "cell_type": "code",
      "source": [
        "#Deduplication of entries\n",
        "final=df.drop_duplicates(subset={'UserId','ProfileName','Time','Text'},keep='first',inplace=False)\n",
        "final.shape"
      ],
      "execution_count": 0,
      "outputs": [
        {
          "output_type": "execute_result",
          "data": {
            "text/plain": [
              "(4944, 10)"
            ]
          },
          "metadata": {
            "tags": []
          },
          "execution_count": 9
        }
      ]
    },
    {
      "metadata": {
        "id": "_28qDblogwA9",
        "colab_type": "code",
        "outputId": "874acc8d-f3f4-410a-e193-25d0991c3dc6",
        "colab": {
          "base_uri": "https://localhost:8080/",
          "height": 204
        }
      },
      "cell_type": "code",
      "source": [
        "final=final[['Text','Score']]\n",
        "final.head()"
      ],
      "execution_count": 0,
      "outputs": [
        {
          "output_type": "execute_result",
          "data": {
            "text/html": [
              "<div>\n",
              "<style scoped>\n",
              "    .dataframe tbody tr th:only-of-type {\n",
              "        vertical-align: middle;\n",
              "    }\n",
              "\n",
              "    .dataframe tbody tr th {\n",
              "        vertical-align: top;\n",
              "    }\n",
              "\n",
              "    .dataframe thead th {\n",
              "        text-align: right;\n",
              "    }\n",
              "</style>\n",
              "<table border=\"1\" class=\"dataframe\">\n",
              "  <thead>\n",
              "    <tr style=\"text-align: right;\">\n",
              "      <th></th>\n",
              "      <th>Text</th>\n",
              "      <th>Score</th>\n",
              "    </tr>\n",
              "  </thead>\n",
              "  <tbody>\n",
              "    <tr>\n",
              "      <th>146032</th>\n",
              "      <td>Received this in good time, personally haven't...</td>\n",
              "      <td>1</td>\n",
              "    </tr>\n",
              "    <tr>\n",
              "      <th>480881</th>\n",
              "      <td>I had just taken a Freshly made Spinach, Feta,...</td>\n",
              "      <td>1</td>\n",
              "    </tr>\n",
              "    <tr>\n",
              "      <th>475985</th>\n",
              "      <td>My Dogs love this food..This food is so much c...</td>\n",
              "      <td>1</td>\n",
              "    </tr>\n",
              "    <tr>\n",
              "      <th>126825</th>\n",
              "      <td>very good buy (the subscribe &amp; save really mad...</td>\n",
              "      <td>1</td>\n",
              "    </tr>\n",
              "    <tr>\n",
              "      <th>197612</th>\n",
              "      <td>What a waste of money!!!!!! Based on other cus...</td>\n",
              "      <td>0</td>\n",
              "    </tr>\n",
              "  </tbody>\n",
              "</table>\n",
              "</div>"
            ],
            "text/plain": [
              "                                                     Text  Score\n",
              "146032  Received this in good time, personally haven't...      1\n",
              "480881  I had just taken a Freshly made Spinach, Feta,...      1\n",
              "475985  My Dogs love this food..This food is so much c...      1\n",
              "126825  very good buy (the subscribe & save really mad...      1\n",
              "197612  What a waste of money!!!!!! Based on other cus...      0"
            ]
          },
          "metadata": {
            "tags": []
          },
          "execution_count": 10
        }
      ]
    },
    {
      "metadata": {
        "id": "JqVLaDq5ohdj",
        "colab_type": "text"
      },
      "cell_type": "markdown",
      "source": [
        "# 2. Data Cleaning\n",
        "** 2.1 Hyperlink Removal**"
      ]
    },
    {
      "metadata": {
        "id": "91Pcqy8woggS",
        "colab_type": "code",
        "colab": {}
      },
      "cell_type": "code",
      "source": [
        "for i in range(0,4944):\n",
        "  final['Text'].values[i] = re.sub(r\"http\\S+\", \"\", final['Text'].values[i])"
      ],
      "execution_count": 0,
      "outputs": []
    },
    {
      "metadata": {
        "id": "Gv55ZD3GpVux",
        "colab_type": "text"
      },
      "cell_type": "markdown",
      "source": [
        "**2.2 html tags Removal**"
      ]
    },
    {
      "metadata": {
        "id": "Bq1x-9mMpG_r",
        "colab_type": "code",
        "colab": {}
      },
      "cell_type": "code",
      "source": [
        "#Remove HTML tags\n",
        "for i in range(1,4944):\n",
        "  soup = BeautifulSoup(final['Text'].values[i],'lxml')\n",
        "  text = soup.get_text()\n",
        "  final['Text'].values[i]=text"
      ],
      "execution_count": 0,
      "outputs": []
    },
    {
      "metadata": {
        "id": "Is-LCLjWopbn",
        "colab_type": "text"
      },
      "cell_type": "markdown",
      "source": [
        "# LSTM\n",
        "\n",
        "# 3.1 Training Data Preparation"
      ]
    },
    {
      "metadata": {
        "id": "-O-n6JSFjSZu",
        "colab_type": "code",
        "outputId": "2674cd47-8867-4476-c22a-e8f8be62cea3",
        "colab": {
          "base_uri": "https://localhost:8080/",
          "height": 34
        }
      },
      "cell_type": "code",
      "source": [
        "y=list(final['Score'])\n",
        "reviews=list(final['Text']) #x\n",
        "len(y)"
      ],
      "execution_count": 0,
      "outputs": [
        {
          "output_type": "execute_result",
          "data": {
            "text/plain": [
              "4944"
            ]
          },
          "metadata": {
            "tags": []
          },
          "execution_count": 13
        }
      ]
    },
    {
      "metadata": {
        "id": "UULykq0ZjwGR",
        "colab_type": "code",
        "colab": {}
      },
      "cell_type": "code",
      "source": [
        "list_of_word=[]\n",
        "for review in reviews:\n",
        "  words=review.split()\n",
        "  for word in words:\n",
        "    list_of_word.append(word)"
      ],
      "execution_count": 0,
      "outputs": []
    },
    {
      "metadata": {
        "id": "SWoOLcDFlQbY",
        "colab_type": "code",
        "outputId": "9a91d8a2-ca31-4f30-e2da-ec5895b055d9",
        "colab": {
          "base_uri": "https://localhost:8080/",
          "height": 34
        }
      },
      "cell_type": "code",
      "source": [
        "counts = Counter(list_of_word)\n",
        "list_of_unique_word=list(counts.elements())\n",
        "print(\"Total No of unique words :\",len(list_of_unique_word))"
      ],
      "execution_count": 0,
      "outputs": [
        {
          "output_type": "stream",
          "text": [
            "Total No of unique words : 379914\n"
          ],
          "name": "stdout"
        }
      ]
    },
    {
      "metadata": {
        "id": "SybudEetxcEe",
        "colab_type": "code",
        "outputId": "e61aa246-c713-47da-fb15-07bc4d038b19",
        "colab": {
          "base_uri": "https://localhost:8080/",
          "height": 204
        }
      },
      "cell_type": "code",
      "source": [
        "#No of top words we have to take=5000\n",
        "no_of_top_words=5000\n",
        "top=counts.most_common(no_of_top_words)\n",
        "top_words=[]\n",
        "for word in top:\n",
        "  top_words.append(word[0])\n",
        "print(\"Top words\\tFrequency\")\n",
        "for i in range(0,10):\n",
        "  print(top[i][0],\"\\t\\t\",top[i][1])"
      ],
      "execution_count": 0,
      "outputs": [
        {
          "output_type": "stream",
          "text": [
            "Top words\tFrequency\n",
            "the \t\t 13758\n",
            "I \t\t 11695\n",
            "and \t\t 10603\n",
            "a \t\t 9894\n",
            "to \t\t 8366\n",
            "of \t\t 6613\n",
            "is \t\t 6199\n",
            "it \t\t 5386\n",
            "in \t\t 4420\n",
            "for \t\t 4294\n"
          ],
          "name": "stdout"
        }
      ]
    },
    {
      "metadata": {
        "id": "vXy1rMFEFXzd",
        "colab_type": "code",
        "colab": {}
      },
      "cell_type": "code",
      "source": [
        "x_list=[]\n",
        "i=0\n",
        "for review in reviews:\n",
        "  index_list=[]\n",
        "  for word in review.split():\n",
        "    try:\n",
        "      if word in top_words:\n",
        "        index_list.append(top_words.index(word))\n",
        "    except:\n",
        "      print(word,\": Not found\")\n",
        "  x_list.append(index_list)\n",
        "  i+=1"
      ],
      "execution_count": 0,
      "outputs": []
    },
    {
      "metadata": {
        "id": "V90rGXH8JcKP",
        "colab_type": "text"
      },
      "cell_type": "markdown",
      "source": [
        "**Splitting into train and test**"
      ]
    },
    {
      "metadata": {
        "id": "JNH5tCovJboF",
        "colab_type": "code",
        "colab": {}
      },
      "cell_type": "code",
      "source": [
        "y_train=y[0:3958]\n",
        "x_train=x_list[0:3958]\n",
        "y_test=y[3958:]\n",
        "x_test=x_list[3958:]"
      ],
      "execution_count": 0,
      "outputs": []
    },
    {
      "metadata": {
        "id": "AZkNHpO1KLGA",
        "colab_type": "code",
        "outputId": "c955e465-fd54-4ff8-a206-b7a7e8088784",
        "colab": {
          "base_uri": "https://localhost:8080/",
          "height": 51
        }
      },
      "cell_type": "code",
      "source": [
        "print(\"training size of x= {} y= {}\".format(len(y_train),len(x_train)))\n",
        "print(\"test size of x= {} y= {}\" .format(len(y_test) ,len(x_test)))"
      ],
      "execution_count": 0,
      "outputs": [
        {
          "output_type": "stream",
          "text": [
            "training size of x= 3958 y= 3958\n",
            "test size of x= 986 y= 986\n"
          ],
          "name": "stdout"
        }
      ]
    },
    {
      "metadata": {
        "id": "1IBypvLTLO2i",
        "colab_type": "code",
        "outputId": "e4cf5721-54da-4f99-9c17-41884250b1e4",
        "colab": {
          "base_uri": "https://localhost:8080/",
          "height": 88
        }
      },
      "cell_type": "code",
      "source": [
        "print(x_train[1])\n",
        "print(type(x_train[1]))\n",
        "print(len(x_train[1]))"
      ],
      "execution_count": 0,
      "outputs": [
        {
          "output_type": "stream",
          "text": [
            "[1, 43, 33, 1313, 3, 118, 2385, 46, 5, 0, 2544, 50, 30, 2385, 2252, 253, 55, 252, 74, 2253, 419, 3, 123, 127, 1, 1687, 0, 14, 3, 1081, 5, 30, 127, 1914, 601, 40, 0, 253, 127, 1149, 9, 1, 17, 593, 163, 495, 174, 8, 0, 332, 14, 127, 186, 127, 35, 14, 44, 127, 174, 4883, 1, 1149, 80, 153, 24, 22, 0, 40, 394, 0, 1, 254, 13, 33, 1687, 0, 2385, 1838, 127, 1513, 547, 40, 0, 1688, 16, 11, 1005, 1, 13, 148, 314, 93, 11, 260, 665, 127, 253, 16, 3, 2118, 8, 109, 1915, 21, 74, 13, 32, 14, 2254, 121, 3777, 3426, 1, 87, 64, 1114, 4884, 2119, 3426, 127, 1115, 508, 1042, 74, 862, 14, 2252, 253, 113, 16, 61, 3134, 391, 224, 332, 654, 1006, 1839, 127, 1314, 3, 123, 5, 30, 14, 3, 142, 5, 317, 487, 3777, 480, 127, 2254, 6, 3, 317, 1630, 622, 29, 280, 19, 63, 56, 5, 0, 2386, 6, 14, 33, 3, 794, 5, 16, 3, 2545, 1, 45, 225, 27, 213, 1840, 127, 9, 0, 0, 1279, 124, 43, 30, 71, 40, 4273, 127, 82, 434, 44, 15, 24, 45, 13, 4, 715, 9, 64, 120, 140, 21, 18, 481, 83, 30, 1315, 286, 294, 1]\n",
            "<class 'list'>\n",
            "216\n"
          ],
          "name": "stdout"
        }
      ]
    },
    {
      "metadata": {
        "id": "1ZJUJ4XsM83A",
        "colab_type": "text"
      },
      "cell_type": "markdown",
      "source": [
        "# 3.2 **Padding**"
      ]
    },
    {
      "metadata": {
        "id": "A-d0SB5jLaba",
        "colab_type": "code",
        "outputId": "bfad9e99-1410-4209-fa21-eb1bd6d1aed1",
        "colab": {
          "base_uri": "https://localhost:8080/",
          "height": 289
        }
      },
      "cell_type": "code",
      "source": [
        "max_review_length = 200\n",
        "x_train=sequence.pad_sequences(x_train,maxlen=max_review_length)\n",
        "x_test=sequence.pad_sequences(x_test,maxlen=max_review_length)\n",
        "print(\"Training data Shape\",x_train.shape)\n",
        "print(x_train[1])"
      ],
      "execution_count": 0,
      "outputs": [
        {
          "output_type": "stream",
          "text": [
            "Training data Shape (3958, 200)\n",
            "[   0    0    0    0    0    0    0    0    0    0    0    0    0    0\n",
            "    0    0    0    0    0    0    0    0    0    0    0    0    0    0\n",
            "    0    0    0    0    0    0    0    0    0    0    0    0    0    0\n",
            "    0    0    0    0    0    0    0    0    0    0    0    0    0    0\n",
            "    0    0    0    0    0    0    0    0    0    0    0    0    0    0\n",
            "    0    0    0    0    0    0    0    0    0    0    0    0    0    0\n",
            "    0    0    0    0    0    0    0    0    0    0    0    0    0    0\n",
            "    0    0 4884 2119 3426  127 1115  508 1042   74  862   14 2252  253\n",
            "  113   16   61 3134  391  224  332  654 1006 1839  127 1314    3  123\n",
            "    5   30   14    3  142    5  317  487 3777  480  127 2254    6    3\n",
            "  317 1630  622   29  280   19   63   56    5    0 2386    6   14   33\n",
            "    3  794    5   16    3 2545    1   45  225   27  213 1840  127    9\n",
            "    0    0 1279  124   43   30   71   40 4273  127   82  434   44   15\n",
            "   24   45   13    4  715    9   64  120  140   21   18  481   83   30\n",
            " 1315  286  294    1]\n"
          ],
          "name": "stdout"
        }
      ]
    },
    {
      "metadata": {
        "id": "U8JoaTcqU_WV",
        "colab_type": "text"
      },
      "cell_type": "markdown",
      "source": [
        "# Architecture-1"
      ]
    },
    {
      "metadata": {
        "id": "8qWctUIKO4gG",
        "colab_type": "code",
        "outputId": "d2ab18ec-3c96-451f-b33a-ea62a044882b",
        "colab": {
          "base_uri": "https://localhost:8080/",
          "height": 326
        }
      },
      "cell_type": "code",
      "source": [
        "embedding_vector_length=32\n",
        "model=Sequential()\n",
        "model.add(Embedding(no_of_top_words,embedding_vector_length,input_length=max_review_length))\n",
        "model.add(LSTM(100))\n",
        "model.add(Dense(1,activation='sigmoid'))\n",
        "model.compile(loss='binary_crossentropy',optimizer='adam',metrics=['accuracy'])\n",
        "print(model.summary())"
      ],
      "execution_count": 0,
      "outputs": [
        {
          "output_type": "stream",
          "text": [
            "WARNING:tensorflow:From /usr/local/lib/python3.6/dist-packages/tensorflow/python/framework/op_def_library.py:263: colocate_with (from tensorflow.python.framework.ops) is deprecated and will be removed in a future version.\n",
            "Instructions for updating:\n",
            "Colocations handled automatically by placer.\n",
            "_________________________________________________________________\n",
            "Layer (type)                 Output Shape              Param #   \n",
            "=================================================================\n",
            "embedding_1 (Embedding)      (None, 600, 32)           160000    \n",
            "_________________________________________________________________\n",
            "lstm_1 (LSTM)                (None, 100)               53200     \n",
            "_________________________________________________________________\n",
            "dense_1 (Dense)              (None, 1)                 101       \n",
            "=================================================================\n",
            "Total params: 213,301\n",
            "Trainable params: 213,301\n",
            "Non-trainable params: 0\n",
            "_________________________________________________________________\n",
            "None\n"
          ],
          "name": "stdout"
        }
      ]
    },
    {
      "metadata": {
        "id": "S_gTANBSQXpd",
        "colab_type": "code",
        "outputId": "175a53a9-c97c-4eb5-e91e-0a1eba35cdac",
        "colab": {
          "base_uri": "https://localhost:8080/",
          "height": 479
        }
      },
      "cell_type": "code",
      "source": [
        "history=model.fit(x_train, y_train, nb_epoch=10, batch_size=64,validation_data=(x_test,y_test))"
      ],
      "execution_count": 0,
      "outputs": [
        {
          "output_type": "stream",
          "text": [
            "/usr/local/lib/python3.6/dist-packages/ipykernel_launcher.py:1: UserWarning: The `nb_epoch` argument in `fit` has been renamed `epochs`.\n",
            "  \"\"\"Entry point for launching an IPython kernel.\n"
          ],
          "name": "stderr"
        },
        {
          "output_type": "stream",
          "text": [
            "WARNING:tensorflow:From /usr/local/lib/python3.6/dist-packages/tensorflow/python/ops/math_ops.py:3066: to_int32 (from tensorflow.python.ops.math_ops) is deprecated and will be removed in a future version.\n",
            "Instructions for updating:\n",
            "Use tf.cast instead.\n",
            "Train on 3958 samples, validate on 986 samples\n",
            "Epoch 1/10\n",
            "3958/3958 [==============================] - 88s 22ms/step - loss: 0.4885 - acc: 0.8338 - val_loss: 0.4260 - val_acc: 0.8418\n",
            "Epoch 2/10\n",
            "3958/3958 [==============================] - 86s 22ms/step - loss: 0.3797 - acc: 0.8411 - val_loss: 0.3387 - val_acc: 0.8590\n",
            "Epoch 3/10\n",
            "3958/3958 [==============================] - 86s 22ms/step - loss: 0.2228 - acc: 0.9151 - val_loss: 0.3296 - val_acc: 0.8682\n",
            "Epoch 4/10\n",
            "3958/3958 [==============================] - 85s 22ms/step - loss: 0.1257 - acc: 0.9555 - val_loss: 0.3622 - val_acc: 0.8753\n",
            "Epoch 5/10\n",
            "3958/3958 [==============================] - 84s 21ms/step - loss: 0.0787 - acc: 0.9737 - val_loss: 0.4536 - val_acc: 0.8702\n",
            "Epoch 6/10\n",
            "3958/3958 [==============================] - 85s 22ms/step - loss: 0.0317 - acc: 0.9912 - val_loss: 0.5460 - val_acc: 0.8702\n",
            "Epoch 7/10\n",
            "3958/3958 [==============================] - 86s 22ms/step - loss: 0.0142 - acc: 0.9975 - val_loss: 0.5854 - val_acc: 0.8671\n",
            "Epoch 8/10\n",
            "3958/3958 [==============================] - 86s 22ms/step - loss: 0.0111 - acc: 0.9982 - val_loss: 0.6014 - val_acc: 0.8651\n",
            "Epoch 9/10\n",
            "3958/3958 [==============================] - 86s 22ms/step - loss: 0.0058 - acc: 0.9992 - val_loss: 0.6506 - val_acc: 0.8651\n",
            "Epoch 10/10\n",
            "3958/3958 [==============================] - 86s 22ms/step - loss: 0.0027 - acc: 0.9997 - val_loss: 0.7080 - val_acc: 0.8651\n"
          ],
          "name": "stdout"
        }
      ]
    },
    {
      "metadata": {
        "id": "3wPXRILUUB4T",
        "colab_type": "code",
        "outputId": "5b39bcc7-a699-4ec6-e672-f939c169497f",
        "colab": {
          "base_uri": "https://localhost:8080/",
          "height": 410
        }
      },
      "cell_type": "code",
      "source": [
        "# Final evaluation of the model\n",
        "score=model.evaluate(x_test,y_test,verbose=0)\n",
        "print('Test Loss:%.4f '%score[0])\n",
        "print('Test Accuracy: %.4f'%score[1])\n",
        "x = list(range(1,11))\n",
        "val_loss=history.history['val_loss']\n",
        "tr_loss=history.history['loss']\n",
        "plt.plot(x,val_loss,label=\"Validation LOss\")\n",
        "plt.plot(x,tr_loss,label=\"Training LOss\")\n",
        "plt.xlabel(\"No of Epochs\")\n",
        "plt.ylabel(\"Loss\")\n",
        "plt.title(\"Loss Vs Epochs\")\n",
        "plt.legend()\n",
        "plt.show()"
      ],
      "execution_count": 0,
      "outputs": [
        {
          "output_type": "stream",
          "text": [
            "Test Loss:0.7080 \n",
            "Test Accuracy: 0.8651\n"
          ],
          "name": "stdout"
        },
        {
          "output_type": "display_data",
          "data": {
            "image/png": "[encoded data removed]",
            "text/plain": [
              "<Figure size 576x396 with 1 Axes>"
            ]
          },
          "metadata": {
            "tags": []
          }
        }
      ]
    },
    {
      "metadata": {
        "id": "djwfZLmTR_Ui",
        "colab_type": "text"
      },
      "cell_type": "markdown",
      "source": [
        "# Architecture-2"
      ]
    },
    {
      "metadata": {
        "id": "0lnL4e2RSFVE",
        "colab_type": "code",
        "outputId": "7195885c-66da-4645-8b0b-250c73b27058",
        "colab": {
          "base_uri": "https://localhost:8080/",
          "height": 411
        }
      },
      "cell_type": "code",
      "source": [
        "embedding_vector_length=16\n",
        "model2=Sequential()\n",
        "model2.add(Embedding(no_of_top_words,embedding_vector_length,input_length=max_review_length))\n",
        "model2.add(LSTM(128,return_sequences=True,dropout=0.5,recurrent_dropout=0.5))\n",
        "#model2.add(Dropout(0.50))\n",
        "model2.add(LSTM(128,dropout=0.5,recurrent_dropout=0.5))\n",
        "#model2.add(Dropout(0.50))\n",
        "model2.add(Dense(1,activation='sigmoid'))\n",
        "model2.compile(loss='binary_crossentropy',optimizer='adam',metrics=['accuracy'])\n",
        "print(model2.summary())"
      ],
      "execution_count": 0,
      "outputs": [
        {
          "output_type": "stream",
          "text": [
            "WARNING:tensorflow:From /usr/local/lib/python3.6/dist-packages/tensorflow/python/framework/op_def_library.py:263: colocate_with (from tensorflow.python.framework.ops) is deprecated and will be removed in a future version.\n",
            "Instructions for updating:\n",
            "Colocations handled automatically by placer.\n",
            "WARNING:tensorflow:From /usr/local/lib/python3.6/dist-packages/keras/backend/tensorflow_backend.py:3445: calling dropout (from tensorflow.python.ops.nn_ops) with keep_prob is deprecated and will be removed in a future version.\n",
            "Instructions for updating:\n",
            "Please use `rate` instead of `keep_prob`. Rate should be set to `rate = 1 - keep_prob`.\n",
            "_________________________________________________________________\n",
            "Layer (type)                 Output Shape              Param #   \n",
            "=================================================================\n",
            "embedding_1 (Embedding)      (None, 200, 16)           80000     \n",
            "_________________________________________________________________\n",
            "lstm_1 (LSTM)                (None, 200, 128)          74240     \n",
            "_________________________________________________________________\n",
            "lstm_2 (LSTM)                (None, 128)               131584    \n",
            "_________________________________________________________________\n",
            "dense_1 (Dense)              (None, 1)                 129       \n",
            "=================================================================\n",
            "Total params: 285,953\n",
            "Trainable params: 285,953\n",
            "Non-trainable params: 0\n",
            "_________________________________________________________________\n",
            "None\n"
          ],
          "name": "stdout"
        }
      ]
    },
    {
      "metadata": {
        "id": "B9RtCxkuz2UG",
        "colab_type": "code",
        "outputId": "7af489ef-f06d-4b55-c970-935c32c871f1",
        "colab": {
          "base_uri": "https://localhost:8080/",
          "height": 479
        }
      },
      "cell_type": "code",
      "source": [
        "history=model2.fit(x_train, y_train, nb_epoch=10, batch_size=64,validation_data=(x_test,y_test))"
      ],
      "execution_count": 0,
      "outputs": [
        {
          "output_type": "stream",
          "text": [
            "WARNING:tensorflow:From /usr/local/lib/python3.6/dist-packages/tensorflow/python/ops/math_ops.py:3066: to_int32 (from tensorflow.python.ops.math_ops) is deprecated and will be removed in a future version.\n",
            "Instructions for updating:\n",
            "Use tf.cast instead.\n"
          ],
          "name": "stdout"
        },
        {
          "output_type": "stream",
          "text": [
            "/usr/local/lib/python3.6/dist-packages/ipykernel_launcher.py:1: UserWarning: The `nb_epoch` argument in `fit` has been renamed `epochs`.\n",
            "  \"\"\"Entry point for launching an IPython kernel.\n"
          ],
          "name": "stderr"
        },
        {
          "output_type": "stream",
          "text": [
            "Train on 3958 samples, validate on 986 samples\n",
            "Epoch 1/10\n",
            "3958/3958 [==============================] - 83s 21ms/step - loss: 0.4757 - acc: 0.8317 - val_loss: 0.4367 - val_acc: 0.8418\n",
            "Epoch 2/10\n",
            "3958/3958 [==============================] - 81s 21ms/step - loss: 0.4330 - acc: 0.8391 - val_loss: 0.3988 - val_acc: 0.8418\n",
            "Epoch 3/10\n",
            "3958/3958 [==============================] - 81s 20ms/step - loss: 0.3257 - acc: 0.8671 - val_loss: 0.3473 - val_acc: 0.8540\n",
            "Epoch 4/10\n",
            "3958/3958 [==============================] - 81s 20ms/step - loss: 0.2251 - acc: 0.9101 - val_loss: 0.3465 - val_acc: 0.8621\n",
            "Epoch 5/10\n",
            "3958/3958 [==============================] - 82s 21ms/step - loss: 0.1763 - acc: 0.9303 - val_loss: 0.3867 - val_acc: 0.8722\n",
            "Epoch 6/10\n",
            "3958/3958 [==============================] - 82s 21ms/step - loss: 0.1354 - acc: 0.9464 - val_loss: 0.4391 - val_acc: 0.8631\n",
            "Epoch 7/10\n",
            "3958/3958 [==============================] - 81s 20ms/step - loss: 0.1020 - acc: 0.9626 - val_loss: 0.4905 - val_acc: 0.8722\n",
            "Epoch 8/10\n",
            "3958/3958 [==============================] - 81s 20ms/step - loss: 0.0885 - acc: 0.9682 - val_loss: 0.5339 - val_acc: 0.8702\n",
            "Epoch 9/10\n",
            "3958/3958 [==============================] - 81s 21ms/step - loss: 0.0716 - acc: 0.9755 - val_loss: 0.5663 - val_acc: 0.8550\n",
            "Epoch 10/10\n",
            "3958/3958 [==============================] - 81s 21ms/step - loss: 0.0573 - acc: 0.9811 - val_loss: 0.6290 - val_acc: 0.8641\n"
          ],
          "name": "stdout"
        }
      ]
    },
    {
      "metadata": {
        "id": "T-jSJRPXzvCc",
        "colab_type": "code",
        "outputId": "0d410efc-b89d-4792-ad98-9df5eb771a34",
        "colab": {
          "base_uri": "https://localhost:8080/",
          "height": 410
        }
      },
      "cell_type": "code",
      "source": [
        "# Final evaluation of the model\n",
        "score=model2.evaluate(x_test,y_test,verbose=0)\n",
        "print('Test Loss:%.4f '%score[0])\n",
        "print('Test Accuracy: %.4f'%score[1])\n",
        "x = list(range(1,11))\n",
        "val_loss=history.history['val_loss']\n",
        "tr_loss=history.history['loss']\n",
        "plt.plot(x,val_loss,label=\"Validation LOss\")\n",
        "plt.plot(x,tr_loss,label=\"Training LOss\")\n",
        "plt.xlabel(\"No of Epochs\")\n",
        "plt.ylabel(\"Loss\")\n",
        "plt.title(\"Loss Vs Epochs\")\n",
        "plt.legend()\n",
        "plt.show()"
      ],
      "execution_count": 0,
      "outputs": [
        {
          "output_type": "stream",
          "text": [
            "Test Loss:0.6290 \n",
            "Test Accuracy: 0.8641\n"
          ],
          "name": "stdout"
        },
        {
          "output_type": "display_data",
          "data": {
            "image/png": "[encoded data removed]",
            "text/plain": [
              "<Figure size 576x396 with 1 Axes>"
            ]
          },
          "metadata": {
            "tags": []
          }
        }
      ]
    },
    {
      "metadata": {
        "id": "O4xzbyVc4L5q",
        "colab_type": "text"
      },
      "cell_type": "markdown",
      "source": [
        "**No of epoch =3**"
      ]
    },
    {
      "metadata": {
        "id": "M_yGXQRo6hzv",
        "colab_type": "text"
      },
      "cell_type": "markdown",
      "source": [
        "# Architecture -3"
      ]
    },
    {
      "metadata": {
        "id": "iO8AdOoqagIi",
        "colab_type": "code",
        "outputId": "f94e157c-788c-4877-8660-f741413356a5",
        "colab": {
          "base_uri": "https://localhost:8080/",
          "height": 289
        }
      },
      "cell_type": "code",
      "source": [
        "embedding_vector_length=32\n",
        "model=Sequential()\n",
        "model.add(Embedding(no_of_top_words,embedding_vector_length,input_length=max_review_length))\n",
        "model.add(LSTM(128,return_sequences=True,dropout=0.8,recurrent_dropout=0.6))\n",
        "model.add(LSTM(32,dropout=0.8,recurrent_dropout=0.5))\n",
        "model.add(Dense(1,activation='sigmoid'))\n",
        "model.compile(loss='binary_crossentropy',optimizer='adam',metrics=['accuracy'])\n",
        "print(model.summary())"
      ],
      "execution_count": 0,
      "outputs": [
        {
          "output_type": "stream",
          "text": [
            "_________________________________________________________________\n",
            "Layer (type)                 Output Shape              Param #   \n",
            "=================================================================\n",
            "embedding_8 (Embedding)      (None, 200, 32)           160000    \n",
            "_________________________________________________________________\n",
            "lstm_16 (LSTM)               (None, 200, 128)          82432     \n",
            "_________________________________________________________________\n",
            "lstm_17 (LSTM)               (None, 32)                20608     \n",
            "_________________________________________________________________\n",
            "dense_7 (Dense)              (None, 1)                 33        \n",
            "=================================================================\n",
            "Total params: 263,073\n",
            "Trainable params: 263,073\n",
            "Non-trainable params: 0\n",
            "_________________________________________________________________\n",
            "None\n"
          ],
          "name": "stdout"
        }
      ]
    },
    {
      "metadata": {
        "id": "C-Zkcc977a6A",
        "colab_type": "code",
        "outputId": "5daf8b93-716f-4f62-93b9-f1cef1def027",
        "colab": {
          "base_uri": "https://localhost:8080/",
          "height": 408
        }
      },
      "cell_type": "code",
      "source": [
        "history=model.fit(x_train, y_train, nb_epoch=10, batch_size=64,validation_data=(x_test,y_test))"
      ],
      "execution_count": 0,
      "outputs": [
        {
          "output_type": "stream",
          "text": [
            "/usr/local/lib/python3.6/dist-packages/ipykernel_launcher.py:1: UserWarning: The `nb_epoch` argument in `fit` has been renamed `epochs`.\n",
            "  \"\"\"Entry point for launching an IPython kernel.\n"
          ],
          "name": "stderr"
        },
        {
          "output_type": "stream",
          "text": [
            "Train on 3958 samples, validate on 986 samples\n",
            "Epoch 1/10\n",
            "3958/3958 [==============================] - 53s 13ms/step - loss: 0.5035 - acc: 0.8297 - val_loss: 0.4374 - val_acc: 0.8418\n",
            "Epoch 2/10\n",
            "3958/3958 [==============================] - 51s 13ms/step - loss: 0.4456 - acc: 0.8391 - val_loss: 0.4382 - val_acc: 0.8418\n",
            "Epoch 3/10\n",
            "3958/3958 [==============================] - 51s 13ms/step - loss: 0.4446 - acc: 0.8391 - val_loss: 0.4383 - val_acc: 0.8418\n",
            "Epoch 4/10\n",
            "3958/3958 [==============================] - 51s 13ms/step - loss: 0.4444 - acc: 0.8388 - val_loss: 0.4369 - val_acc: 0.8418\n",
            "Epoch 5/10\n",
            "3958/3958 [==============================] - 51s 13ms/step - loss: 0.4433 - acc: 0.8391 - val_loss: 0.4393 - val_acc: 0.8418\n",
            "Epoch 6/10\n",
            "3958/3958 [==============================] - 52s 13ms/step - loss: 0.4439 - acc: 0.8391 - val_loss: 0.4366 - val_acc: 0.8418\n",
            "Epoch 7/10\n",
            "3958/3958 [==============================] - 51s 13ms/step - loss: 0.4413 - acc: 0.8391 - val_loss: 0.4359 - val_acc: 0.8418\n",
            "Epoch 8/10\n",
            "3958/3958 [==============================] - 51s 13ms/step - loss: 0.4381 - acc: 0.8391 - val_loss: 0.4330 - val_acc: 0.8418\n",
            "Epoch 9/10\n",
            "3958/3958 [==============================] - 51s 13ms/step - loss: 0.3904 - acc: 0.8504 - val_loss: 0.3673 - val_acc: 0.8560\n",
            "Epoch 10/10\n",
            "3958/3958 [==============================] - 51s 13ms/step - loss: 0.3146 - acc: 0.8717 - val_loss: 0.3447 - val_acc: 0.8611\n"
          ],
          "name": "stdout"
        }
      ]
    },
    {
      "metadata": {
        "id": "FbjLnJUy83kv",
        "colab_type": "code",
        "outputId": "ecee8fba-6055-4a2b-87b5-2a9a7580e4a7",
        "colab": {
          "base_uri": "https://localhost:8080/",
          "height": 410
        }
      },
      "cell_type": "code",
      "source": [
        "# Final evaluation of the model\n",
        "score=model.evaluate(x_test,y_test,verbose=0)\n",
        "print('Test Loss:%.4f '%score[0])\n",
        "print('Test Accuracy: %.4f'%score[1])\n",
        "x = list(range(1,11))\n",
        "val_loss=history.history['val_loss']\n",
        "tr_loss=history.history['loss']\n",
        "plt.plot(x,val_loss,label=\"Validation LOss\")\n",
        "plt.plot(x,tr_loss,label=\"Training LOss\")\n",
        "plt.xlabel(\"No of Epochs\")\n",
        "plt.ylabel(\"Loss\")\n",
        "plt.title(\"Loss Vs Epochs\")\n",
        "plt.legend()\n",
        "plt.show()"
      ],
      "execution_count": 0,
      "outputs": [
        {
          "output_type": "stream",
          "text": [
            "Test Loss:0.4294 \n",
            "Test Accuracy: 0.8671\n"
          ],
          "name": "stdout"
        },
        {
          "output_type": "display_data",
          "data": {
            "image/png": "[encoded data removed]",
            "text/plain": [
              "<Figure size 576x396 with 1 Axes>"
            ]
          },
          "metadata": {
            "tags": []
          }
        }
      ]
    },
    {
      "metadata": {
        "id": "grMAPoPo3UJh",
        "colab_type": "text"
      },
      "cell_type": "markdown",
      "source": [
        "# Conclusion:\n"
      ]
    },
    {
      "metadata": {
        "id": "zpNQTBqL3W9l",
        "colab_type": "code",
        "outputId": "a1f5531d-61b8-4fbb-f948-69fbf8251a04",
        "colab": {
          "base_uri": "https://localhost:8080/",
          "height": 136
        }
      },
      "cell_type": "code",
      "source": [
        "from prettytable import PrettyTable\n",
        "x=PrettyTable()\n",
        "x.field_names=['No of LSTM','units','Accuracy']\n",
        "x.add_row(['1','100','  0.8899'])\n",
        "x.add_row(['2','100',' 0.8818'])\n",
        "x.add_row(['2','128->32',' 0.8671'])\n",
        "print(x)"
      ],
      "execution_count": 0,
      "outputs": [
        {
          "output_type": "stream",
          "text": [
            "+------------+---------+----------+\n",
            "| No of LSTM |  units  | Accuracy |\n",
            "+------------+---------+----------+\n",
            "|     1      |   100   |   0.8899 |\n",
            "|     2      |   100   |  0.8818  |\n",
            "|     2      | 128->32 |  0.8671  |\n",
            "+------------+---------+----------+\n"
          ],
          "name": "stdout"
        }
      ]
    },
    {
      "metadata": {
        "id": "xw3Zgj-OMzcF",
        "colab_type": "text"
      },
      "cell_type": "markdown",
      "source": [
        "# Observations:\n",
        " 1. Architecture -1 has gone underfitting\n",
        " \n",
        " 2. Architecture -2 after third epoch it  started overfitting\n",
        " \n",
        "  2. Architecture -3 Good Fitting"
      ]
    }
  ]
}